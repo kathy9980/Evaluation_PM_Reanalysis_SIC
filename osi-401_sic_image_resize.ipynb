{
 "cells": [
  {
   "cell_type": "code",
   "execution_count": 4,
   "metadata": {},
   "outputs": [],
   "source": [
    "import os\n",
    "import numpy as np\n",
    "import xarray as xr\n",
    "import netCDF4"
   ]
  },
  {
   "cell_type": "code",
   "execution_count": 5,
   "metadata": {},
   "outputs": [],
   "source": [
    "def FileList(path):\n",
    "    '''\n",
    "    Return all files with assigned surffix.\n",
    "    '''\n",
    "    fl=[]\n",
    "    for f in os.listdir(path):\n",
    "#         if f.endswith('.nc'):\n",
    "        if f.endswith(tuple(['.hdf','he5','nc'])):\n",
    "            fl.append(f)\n",
    "    return fl   "
   ]
  },
  {
   "cell_type": "code",
   "execution_count": 6,
   "metadata": {},
   "outputs": [],
   "source": [
    "def WriteFile(SIC,Lon,Lat,path):\n",
    "    \n",
    "    '''\n",
    "    Write into a netcdf file `asi_sic_80_yyyymmdd.nc`\n",
    "    '''\n",
    "    try: ncfile.close()  # just to be safe, make sure dataset is not already open.\n",
    "    except: pass\n",
    "    ncfile = netCDF4.Dataset(path,mode='w',format='NETCDF4')\n",
    "#     print(ncfile)\n",
    "    \n",
    "    \n",
    "    ndim = SIC.shape[0]\n",
    "    y = ncfile.createDimension('y', ndim)     # latitude axis\n",
    "    x = ncfile.createDimension('x', ndim)    # longitude axis\n",
    "\n",
    "    # Define two variables with the same names as dimensions,\n",
    "    # a conventional way to define \"coordinate variables\".\n",
    "    lat = ncfile.createVariable('lat', np.float32, ('x','y'))\n",
    "    lat.units = 'degrees_north'\n",
    "    lat.long_name = 'latitude'\n",
    "    lon = ncfile.createVariable('lon', np.float32, ('x','y'))\n",
    "    lon.units = 'degrees_east'\n",
    "    lon.long_name = 'longitude'\n",
    "    \n",
    "    # Define a 2D variable to hold the data\n",
    "    sic = ncfile.createVariable('sic',np.float32,('x','y')) # note: unlimited dimension is leftmost\n",
    "    sic.units = 'None' \n",
    "    sic.standard_name = 'Sea_Ice_Concentration' # this is a CF standard name\n",
    "\n",
    "    # Write latitudes, longitudes, Time.\n",
    "    # Note: the \":\" is necessary in these \"write\" statements\n",
    "    lat[:] = Lat\n",
    "    lon[:] = Lon\n",
    "    \n",
    "    # Write the data.  This writes the whole 2D netCDF variable all at once.\n",
    "    sic[:,:] = SIC  # Appends data along unlimited dimension\n",
    "#     print(\"-- Wrote data, sic.shape is now \", sic.shape)\n",
    "    # read data back from variable (by slicing it), print min and max\n",
    "#     print(\"-- Min/Max values:\", np.nanmin(sic), np.nanmax(sic))\n",
    "    \n",
    "    # first print the Dataset object to see what we've got\n",
    "    print(ncfile)\n",
    "    # close the Dataset.\n",
    "    ncfile.close(); print('Dataset is closed!')"
   ]
  },
  {
   "cell_type": "code",
   "execution_count": 7,
   "metadata": {},
   "outputs": [
    {
     "name": "stdout",
     "output_type": "stream",
     "text": [
      "20070828\n",
      "<class 'netCDF4._netCDF4.Dataset'>\n",
      "root group (NETCDF4 data model, file format HDF5):\n",
      "    dimensions(sizes): y(200), x(200)\n",
      "    variables(dimensions): float32 \u001b[4mlat\u001b[0m(x,y), float32 \u001b[4mlon\u001b[0m(x,y), float32 \u001b[4msic\u001b[0m(x,y)\n",
      "    groups: \n",
      "\n",
      "Dataset is closed!\n",
      "ok\n",
      "20080701\n",
      "<class 'netCDF4._netCDF4.Dataset'>\n",
      "root group (NETCDF4 data model, file format HDF5):\n",
      "    dimensions(sizes): y(200), x(200)\n",
      "    variables(dimensions): float32 \u001b[4mlat\u001b[0m(x,y), float32 \u001b[4mlon\u001b[0m(x,y), float32 \u001b[4msic\u001b[0m(x,y)\n",
      "    groups: \n",
      "\n",
      "Dataset is closed!\n",
      "ok\n",
      "20100628\n",
      "<class 'netCDF4._netCDF4.Dataset'>\n",
      "root group (NETCDF4 data model, file format HDF5):\n",
      "    dimensions(sizes): y(200), x(200)\n",
      "    variables(dimensions): float32 \u001b[4mlat\u001b[0m(x,y), float32 \u001b[4mlon\u001b[0m(x,y), float32 \u001b[4msic\u001b[0m(x,y)\n",
      "    groups: \n",
      "\n",
      "Dataset is closed!\n",
      "ok\n",
      "20100721\n",
      "<class 'netCDF4._netCDF4.Dataset'>\n",
      "root group (NETCDF4 data model, file format HDF5):\n",
      "    dimensions(sizes): y(200), x(200)\n",
      "    variables(dimensions): float32 \u001b[4mlat\u001b[0m(x,y), float32 \u001b[4mlon\u001b[0m(x,y), float32 \u001b[4msic\u001b[0m(x,y)\n",
      "    groups: \n",
      "\n",
      "Dataset is closed!\n",
      "ok\n",
      "20100902\n",
      "<class 'netCDF4._netCDF4.Dataset'>\n",
      "root group (NETCDF4 data model, file format HDF5):\n",
      "    dimensions(sizes): y(200), x(200)\n",
      "    variables(dimensions): float32 \u001b[4mlat\u001b[0m(x,y), float32 \u001b[4mlon\u001b[0m(x,y), float32 \u001b[4msic\u001b[0m(x,y)\n",
      "    groups: \n",
      "\n",
      "Dataset is closed!\n",
      "ok\n",
      "20100914\n",
      "<class 'netCDF4._netCDF4.Dataset'>\n",
      "root group (NETCDF4 data model, file format HDF5):\n",
      "    dimensions(sizes): y(200), x(200)\n",
      "    variables(dimensions): float32 \u001b[4mlat\u001b[0m(x,y), float32 \u001b[4mlon\u001b[0m(x,y), float32 \u001b[4msic\u001b[0m(x,y)\n",
      "    groups: \n",
      "\n",
      "Dataset is closed!\n",
      "ok\n",
      "20120823\n",
      "<class 'netCDF4._netCDF4.Dataset'>\n",
      "root group (NETCDF4 data model, file format HDF5):\n",
      "    dimensions(sizes): y(200), x(200)\n",
      "    variables(dimensions): float32 \u001b[4mlat\u001b[0m(x,y), float32 \u001b[4mlon\u001b[0m(x,y), float32 \u001b[4msic\u001b[0m(x,y)\n",
      "    groups: \n",
      "\n",
      "Dataset is closed!\n",
      "ok\n",
      "20130630\n",
      "<class 'netCDF4._netCDF4.Dataset'>\n",
      "root group (NETCDF4 data model, file format HDF5):\n",
      "    dimensions(sizes): y(200), x(200)\n",
      "    variables(dimensions): float32 \u001b[4mlat\u001b[0m(x,y), float32 \u001b[4mlon\u001b[0m(x,y), float32 \u001b[4msic\u001b[0m(x,y)\n",
      "    groups: \n",
      "\n",
      "Dataset is closed!\n",
      "ok\n",
      "20130827\n",
      "<class 'netCDF4._netCDF4.Dataset'>\n",
      "root group (NETCDF4 data model, file format HDF5):\n",
      "    dimensions(sizes): y(200), x(200)\n",
      "    variables(dimensions): float32 \u001b[4mlat\u001b[0m(x,y), float32 \u001b[4mlon\u001b[0m(x,y), float32 \u001b[4msic\u001b[0m(x,y)\n",
      "    groups: \n",
      "\n",
      "Dataset is closed!\n",
      "ok\n",
      "20160719\n",
      "<class 'netCDF4._netCDF4.Dataset'>\n",
      "root group (NETCDF4 data model, file format HDF5):\n",
      "    dimensions(sizes): y(200), x(200)\n",
      "    variables(dimensions): float32 \u001b[4mlat\u001b[0m(x,y), float32 \u001b[4mlon\u001b[0m(x,y), float32 \u001b[4msic\u001b[0m(x,y)\n",
      "    groups: \n",
      "\n",
      "Dataset is closed!\n",
      "ok\n",
      "20160818\n",
      "<class 'netCDF4._netCDF4.Dataset'>\n",
      "root group (NETCDF4 data model, file format HDF5):\n",
      "    dimensions(sizes): y(200), x(200)\n",
      "    variables(dimensions): float32 \u001b[4mlat\u001b[0m(x,y), float32 \u001b[4mlon\u001b[0m(x,y), float32 \u001b[4msic\u001b[0m(x,y)\n",
      "    groups: \n",
      "\n",
      "Dataset is closed!\n",
      "ok\n",
      "20160825\n",
      "<class 'netCDF4._netCDF4.Dataset'>\n",
      "root group (NETCDF4 data model, file format HDF5):\n",
      "    dimensions(sizes): y(200), x(200)\n",
      "    variables(dimensions): float32 \u001b[4mlat\u001b[0m(x,y), float32 \u001b[4mlon\u001b[0m(x,y), float32 \u001b[4msic\u001b[0m(x,y)\n",
      "    groups: \n",
      "\n",
      "Dataset is closed!\n",
      "ok\n",
      "20160908\n",
      "<class 'netCDF4._netCDF4.Dataset'>\n",
      "root group (NETCDF4 data model, file format HDF5):\n",
      "    dimensions(sizes): y(200), x(200)\n",
      "    variables(dimensions): float32 \u001b[4mlat\u001b[0m(x,y), float32 \u001b[4mlon\u001b[0m(x,y), float32 \u001b[4msic\u001b[0m(x,y)\n",
      "    groups: \n",
      "\n",
      "Dataset is closed!\n",
      "ok\n",
      "20160916\n",
      "<class 'netCDF4._netCDF4.Dataset'>\n",
      "root group (NETCDF4 data model, file format HDF5):\n",
      "    dimensions(sizes): y(200), x(200)\n",
      "    variables(dimensions): float32 \u001b[4mlat\u001b[0m(x,y), float32 \u001b[4mlon\u001b[0m(x,y), float32 \u001b[4msic\u001b[0m(x,y)\n",
      "    groups: \n",
      "\n",
      "Dataset is closed!\n",
      "ok\n",
      "20170911\n",
      "<class 'netCDF4._netCDF4.Dataset'>\n",
      "root group (NETCDF4 data model, file format HDF5):\n",
      "    dimensions(sizes): y(200), x(200)\n",
      "    variables(dimensions): float32 \u001b[4mlat\u001b[0m(x,y), float32 \u001b[4mlon\u001b[0m(x,y), float32 \u001b[4msic\u001b[0m(x,y)\n",
      "    groups: \n",
      "\n",
      "Dataset is closed!\n",
      "ok\n",
      "20190825\n",
      "<class 'netCDF4._netCDF4.Dataset'>\n",
      "root group (NETCDF4 data model, file format HDF5):\n",
      "    dimensions(sizes): y(200), x(200)\n",
      "    variables(dimensions): float32 \u001b[4mlat\u001b[0m(x,y), float32 \u001b[4mlon\u001b[0m(x,y), float32 \u001b[4msic\u001b[0m(x,y)\n",
      "    groups: \n",
      "\n",
      "Dataset is closed!\n",
      "ok\n"
     ]
    }
   ],
   "source": [
    "path = ('D:\\\\MPE-SIC\\\\OSI-401')\n",
    "\n",
    "FL = FileList(path)\n",
    "# print(FL)\n",
    "\n",
    "# fname = FL[0]\n",
    "for fname in FL:\n",
    "\n",
    "    date = fname[-15:-7]\n",
    "    print(date)\n",
    "    \n",
    "    ''' Read SIC '''\n",
    "    da = xr.open_dataset(os.path.join(path,fname))\n",
    "    Lat10 = da.lat.values\n",
    "    Lon10 = da.lon.values\n",
    "    SIC = da.ice_conc.values[0,:,:]\n",
    "\n",
    "    ''' Crop into 200 x 200 grid'''\n",
    "    d = 100\n",
    "    Lono = Lon10[584-d:584+d,385-d:385+d]\n",
    "    Lato = Lat10[584-d:584+d,385-d:385+d]\n",
    "    temp = SIC[584-d:584+d,385-d:385+d]\n",
    "    \n",
    "    \n",
    "    ''' Write Files'''\n",
    "    savepath = 'D:\\\\MPE-SIC\\\\'\n",
    "    fpath = savepath + 'osi-401_sic_80_'+date+'.nc'\n",
    "    WriteFile(temp,Lono,Lato,fpath)    \n",
    "    \n",
    "    print('ok')"
   ]
  },
  {
   "cell_type": "code",
   "execution_count": null,
   "metadata": {},
   "outputs": [],
   "source": []
  },
  {
   "cell_type": "markdown",
   "metadata": {},
   "source": [
    "## Test "
   ]
  },
  {
   "cell_type": "code",
   "execution_count": 15,
   "metadata": {},
   "outputs": [
    {
     "name": "stdout",
     "output_type": "stream",
     "text": [
      "0.0 100.0\n",
      "(1120, 760)\n",
      "(200, 200)\n"
     ]
    }
   ],
   "source": [
    "fname = FL[0]\n",
    "date = fname[-15:-7]\n",
    "da = xr.open_dataset(os.path.join(path,fname))\n",
    "SIC = da.ice_conc.values[0,:,:]\n",
    "Lat10 = da.lat.values\n",
    "Lon10 = da.lon.values\n",
    "\n",
    "print(np.nanmin(SIC), np.nanmax(SIC))\n",
    "\n",
    "\n",
    "d = 100\n",
    "Lono = Lon10[584-d:584+d,385-d:385+d]\n",
    "Lato = Lat10[584-d:584+d,385-d:385+d]\n",
    "temp = SIC[584-d:584+d,385-d:385+d]\n",
    "\n",
    "print(SIC.shape)\n",
    "\n",
    "print(temp.shape)\n",
    "# print(np.nanmin(temp),np.nanmax(temp))"
   ]
  },
  {
   "cell_type": "code",
   "execution_count": 18,
   "metadata": {},
   "outputs": [
    {
     "name": "stdout",
     "output_type": "stream",
     "text": [
      "<class 'netCDF4._netCDF4.Dataset'>\n",
      "root group (NETCDF4 data model, file format HDF5):\n",
      "    dimensions(sizes): y(200), x(200)\n",
      "    variables(dimensions): float32 \u001b[4mlat\u001b[0m(x,y), float32 \u001b[4mlon\u001b[0m(x,y), float32 \u001b[4msic\u001b[0m(x,y)\n",
      "    groups: \n",
      "\n",
      "Dataset is closed!\n"
     ]
    }
   ],
   "source": [
    "WriteFile(temp,Lono,Lato,'osi-401_sic_80_'+date+'.nc')"
   ]
  },
  {
   "cell_type": "code",
   "execution_count": 8,
   "metadata": {
    "scrolled": true
   },
   "outputs": [
    {
     "ename": "FileNotFoundError",
     "evalue": "[Errno 2] No such file or directory: b'C:\\\\Users\\\\kathy\\\\research\\\\Sea-ice-concentration\\\\p_pro\\\\osi-401_sic_80_20190825.nc'",
     "output_type": "error",
     "traceback": [
      "\u001b[1;31m---------------------------------------------------------------------------\u001b[0m",
      "\u001b[1;31mKeyError\u001b[0m                                  Traceback (most recent call last)",
      "\u001b[1;32m~\\Anaconda3\\lib\\site-packages\\xarray\\backends\\file_manager.py\u001b[0m in \u001b[0;36macquire\u001b[1;34m(self, needs_lock)\u001b[0m\n\u001b[0;32m    166\u001b[0m             \u001b[1;32mtry\u001b[0m\u001b[1;33m:\u001b[0m\u001b[1;33m\u001b[0m\u001b[1;33m\u001b[0m\u001b[0m\n\u001b[1;32m--> 167\u001b[1;33m                 \u001b[0mfile\u001b[0m \u001b[1;33m=\u001b[0m \u001b[0mself\u001b[0m\u001b[1;33m.\u001b[0m\u001b[0m_cache\u001b[0m\u001b[1;33m[\u001b[0m\u001b[0mself\u001b[0m\u001b[1;33m.\u001b[0m\u001b[0m_key\u001b[0m\u001b[1;33m]\u001b[0m\u001b[1;33m\u001b[0m\u001b[1;33m\u001b[0m\u001b[0m\n\u001b[0m\u001b[0;32m    168\u001b[0m             \u001b[1;32mexcept\u001b[0m \u001b[0mKeyError\u001b[0m\u001b[1;33m:\u001b[0m\u001b[1;33m\u001b[0m\u001b[1;33m\u001b[0m\u001b[0m\n",
      "\u001b[1;32m~\\Anaconda3\\lib\\site-packages\\xarray\\backends\\lru_cache.py\u001b[0m in \u001b[0;36m__getitem__\u001b[1;34m(self, key)\u001b[0m\n\u001b[0;32m     41\u001b[0m         \u001b[1;32mwith\u001b[0m \u001b[0mself\u001b[0m\u001b[1;33m.\u001b[0m\u001b[0m_lock\u001b[0m\u001b[1;33m:\u001b[0m\u001b[1;33m\u001b[0m\u001b[1;33m\u001b[0m\u001b[0m\n\u001b[1;32m---> 42\u001b[1;33m             \u001b[0mvalue\u001b[0m \u001b[1;33m=\u001b[0m \u001b[0mself\u001b[0m\u001b[1;33m.\u001b[0m\u001b[0m_cache\u001b[0m\u001b[1;33m[\u001b[0m\u001b[0mkey\u001b[0m\u001b[1;33m]\u001b[0m\u001b[1;33m\u001b[0m\u001b[1;33m\u001b[0m\u001b[0m\n\u001b[0m\u001b[0;32m     43\u001b[0m             \u001b[0mself\u001b[0m\u001b[1;33m.\u001b[0m\u001b[0m_cache\u001b[0m\u001b[1;33m.\u001b[0m\u001b[0mmove_to_end\u001b[0m\u001b[1;33m(\u001b[0m\u001b[0mkey\u001b[0m\u001b[1;33m)\u001b[0m\u001b[1;33m\u001b[0m\u001b[1;33m\u001b[0m\u001b[0m\n",
      "\u001b[1;31mKeyError\u001b[0m: [<function _open_netcdf4_group at 0x000001D5FB990158>, ('C:\\\\Users\\\\kathy\\\\research\\\\Sea-ice-concentration\\\\p_pro\\\\osi-401_sic_80_20190825.nc', CombinedLock([<SerializableLock: e605b696-4aa3-41df-98cc-971284147c23>, <SerializableLock: 2ef8f01d-6d1e-4411-b170-d0029ef14732>])), 'r', (('clobber', True), ('diskless', False), ('format', 'NETCDF4'), ('group', None), ('persist', False))]",
      "\nDuring handling of the above exception, another exception occurred:\n",
      "\u001b[1;31mFileNotFoundError\u001b[0m                         Traceback (most recent call last)",
      "\u001b[1;32m<ipython-input-8-b8d129c72abb>\u001b[0m in \u001b[0;36m<module>\u001b[1;34m\u001b[0m\n\u001b[1;32m----> 1\u001b[1;33m \u001b[0mds\u001b[0m \u001b[1;33m=\u001b[0m \u001b[0mxr\u001b[0m\u001b[1;33m.\u001b[0m\u001b[0mopen_dataset\u001b[0m\u001b[1;33m(\u001b[0m\u001b[1;34m'osi-401_sic_80_'\u001b[0m\u001b[1;33m+\u001b[0m\u001b[0mdate\u001b[0m\u001b[1;33m+\u001b[0m\u001b[1;34m'.nc'\u001b[0m\u001b[1;33m)\u001b[0m\u001b[1;33m\u001b[0m\u001b[1;33m\u001b[0m\u001b[0m\n\u001b[0m\u001b[0;32m      2\u001b[0m \u001b[0mds\u001b[0m\u001b[1;33m\u001b[0m\u001b[1;33m\u001b[0m\u001b[0m\n",
      "\u001b[1;32m~\\Anaconda3\\lib\\site-packages\\xarray\\backends\\api.py\u001b[0m in \u001b[0;36mopen_dataset\u001b[1;34m(filename_or_obj, group, decode_cf, mask_and_scale, decode_times, autoclose, concat_characters, decode_coords, engine, chunks, lock, cache, drop_variables, backend_kwargs, use_cftime)\u001b[0m\n\u001b[0;32m    361\u001b[0m         \u001b[1;32mif\u001b[0m \u001b[0mengine\u001b[0m \u001b[1;33m==\u001b[0m \u001b[1;34m'netcdf4'\u001b[0m\u001b[1;33m:\u001b[0m\u001b[1;33m\u001b[0m\u001b[1;33m\u001b[0m\u001b[0m\n\u001b[0;32m    362\u001b[0m             store = backends.NetCDF4DataStore.open(\n\u001b[1;32m--> 363\u001b[1;33m                 filename_or_obj, group=group, lock=lock, **backend_kwargs)\n\u001b[0m\u001b[0;32m    364\u001b[0m         \u001b[1;32melif\u001b[0m \u001b[0mengine\u001b[0m \u001b[1;33m==\u001b[0m \u001b[1;34m'scipy'\u001b[0m\u001b[1;33m:\u001b[0m\u001b[1;33m\u001b[0m\u001b[1;33m\u001b[0m\u001b[0m\n\u001b[0;32m    365\u001b[0m             \u001b[0mstore\u001b[0m \u001b[1;33m=\u001b[0m \u001b[0mbackends\u001b[0m\u001b[1;33m.\u001b[0m\u001b[0mScipyDataStore\u001b[0m\u001b[1;33m(\u001b[0m\u001b[0mfilename_or_obj\u001b[0m\u001b[1;33m,\u001b[0m \u001b[1;33m**\u001b[0m\u001b[0mbackend_kwargs\u001b[0m\u001b[1;33m)\u001b[0m\u001b[1;33m\u001b[0m\u001b[1;33m\u001b[0m\u001b[0m\n",
      "\u001b[1;32m~\\Anaconda3\\lib\\site-packages\\xarray\\backends\\netCDF4_.py\u001b[0m in \u001b[0;36mopen\u001b[1;34m(cls, filename, mode, format, group, clobber, diskless, persist, lock, lock_maker, autoclose)\u001b[0m\n\u001b[0;32m    350\u001b[0m             kwargs=dict(group=group, clobber=clobber, diskless=diskless,\n\u001b[0;32m    351\u001b[0m                         persist=persist, format=format))\n\u001b[1;32m--> 352\u001b[1;33m         \u001b[1;32mreturn\u001b[0m \u001b[0mcls\u001b[0m\u001b[1;33m(\u001b[0m\u001b[0mmanager\u001b[0m\u001b[1;33m,\u001b[0m \u001b[0mlock\u001b[0m\u001b[1;33m=\u001b[0m\u001b[0mlock\u001b[0m\u001b[1;33m,\u001b[0m \u001b[0mautoclose\u001b[0m\u001b[1;33m=\u001b[0m\u001b[0mautoclose\u001b[0m\u001b[1;33m)\u001b[0m\u001b[1;33m\u001b[0m\u001b[1;33m\u001b[0m\u001b[0m\n\u001b[0m\u001b[0;32m    353\u001b[0m \u001b[1;33m\u001b[0m\u001b[0m\n\u001b[0;32m    354\u001b[0m     \u001b[1;33m@\u001b[0m\u001b[0mproperty\u001b[0m\u001b[1;33m\u001b[0m\u001b[1;33m\u001b[0m\u001b[0m\n",
      "\u001b[1;32m~\\Anaconda3\\lib\\site-packages\\xarray\\backends\\netCDF4_.py\u001b[0m in \u001b[0;36m__init__\u001b[1;34m(self, manager, lock, autoclose)\u001b[0m\n\u001b[0;32m    309\u001b[0m \u001b[1;33m\u001b[0m\u001b[0m\n\u001b[0;32m    310\u001b[0m         \u001b[0mself\u001b[0m\u001b[1;33m.\u001b[0m\u001b[0m_manager\u001b[0m \u001b[1;33m=\u001b[0m \u001b[0mmanager\u001b[0m\u001b[1;33m\u001b[0m\u001b[1;33m\u001b[0m\u001b[0m\n\u001b[1;32m--> 311\u001b[1;33m         \u001b[0mself\u001b[0m\u001b[1;33m.\u001b[0m\u001b[0mformat\u001b[0m \u001b[1;33m=\u001b[0m \u001b[0mself\u001b[0m\u001b[1;33m.\u001b[0m\u001b[0mds\u001b[0m\u001b[1;33m.\u001b[0m\u001b[0mdata_model\u001b[0m\u001b[1;33m\u001b[0m\u001b[1;33m\u001b[0m\u001b[0m\n\u001b[0m\u001b[0;32m    312\u001b[0m         \u001b[0mself\u001b[0m\u001b[1;33m.\u001b[0m\u001b[0m_filename\u001b[0m \u001b[1;33m=\u001b[0m \u001b[0mself\u001b[0m\u001b[1;33m.\u001b[0m\u001b[0mds\u001b[0m\u001b[1;33m.\u001b[0m\u001b[0mfilepath\u001b[0m\u001b[1;33m(\u001b[0m\u001b[1;33m)\u001b[0m\u001b[1;33m\u001b[0m\u001b[1;33m\u001b[0m\u001b[0m\n\u001b[0;32m    313\u001b[0m         \u001b[0mself\u001b[0m\u001b[1;33m.\u001b[0m\u001b[0mis_remote\u001b[0m \u001b[1;33m=\u001b[0m \u001b[0mis_remote_uri\u001b[0m\u001b[1;33m(\u001b[0m\u001b[0mself\u001b[0m\u001b[1;33m.\u001b[0m\u001b[0m_filename\u001b[0m\u001b[1;33m)\u001b[0m\u001b[1;33m\u001b[0m\u001b[1;33m\u001b[0m\u001b[0m\n",
      "\u001b[1;32m~\\Anaconda3\\lib\\site-packages\\xarray\\backends\\netCDF4_.py\u001b[0m in \u001b[0;36mds\u001b[1;34m(self)\u001b[0m\n\u001b[0;32m    354\u001b[0m     \u001b[1;33m@\u001b[0m\u001b[0mproperty\u001b[0m\u001b[1;33m\u001b[0m\u001b[1;33m\u001b[0m\u001b[0m\n\u001b[0;32m    355\u001b[0m     \u001b[1;32mdef\u001b[0m \u001b[0mds\u001b[0m\u001b[1;33m(\u001b[0m\u001b[0mself\u001b[0m\u001b[1;33m)\u001b[0m\u001b[1;33m:\u001b[0m\u001b[1;33m\u001b[0m\u001b[1;33m\u001b[0m\u001b[0m\n\u001b[1;32m--> 356\u001b[1;33m         \u001b[1;32mreturn\u001b[0m \u001b[0mself\u001b[0m\u001b[1;33m.\u001b[0m\u001b[0m_manager\u001b[0m\u001b[1;33m.\u001b[0m\u001b[0macquire\u001b[0m\u001b[1;33m(\u001b[0m\u001b[1;33m)\u001b[0m\u001b[1;33m.\u001b[0m\u001b[0mvalue\u001b[0m\u001b[1;33m\u001b[0m\u001b[1;33m\u001b[0m\u001b[0m\n\u001b[0m\u001b[0;32m    357\u001b[0m \u001b[1;33m\u001b[0m\u001b[0m\n\u001b[0;32m    358\u001b[0m     \u001b[1;32mdef\u001b[0m \u001b[0mopen_store_variable\u001b[0m\u001b[1;33m(\u001b[0m\u001b[0mself\u001b[0m\u001b[1;33m,\u001b[0m \u001b[0mname\u001b[0m\u001b[1;33m,\u001b[0m \u001b[0mvar\u001b[0m\u001b[1;33m)\u001b[0m\u001b[1;33m:\u001b[0m\u001b[1;33m\u001b[0m\u001b[1;33m\u001b[0m\u001b[0m\n",
      "\u001b[1;32m~\\Anaconda3\\lib\\site-packages\\xarray\\backends\\file_manager.py\u001b[0m in \u001b[0;36macquire\u001b[1;34m(self, needs_lock)\u001b[0m\n\u001b[0;32m    171\u001b[0m                     \u001b[0mkwargs\u001b[0m \u001b[1;33m=\u001b[0m \u001b[0mkwargs\u001b[0m\u001b[1;33m.\u001b[0m\u001b[0mcopy\u001b[0m\u001b[1;33m(\u001b[0m\u001b[1;33m)\u001b[0m\u001b[1;33m\u001b[0m\u001b[1;33m\u001b[0m\u001b[0m\n\u001b[0;32m    172\u001b[0m                     \u001b[0mkwargs\u001b[0m\u001b[1;33m[\u001b[0m\u001b[1;34m'mode'\u001b[0m\u001b[1;33m]\u001b[0m \u001b[1;33m=\u001b[0m \u001b[0mself\u001b[0m\u001b[1;33m.\u001b[0m\u001b[0m_mode\u001b[0m\u001b[1;33m\u001b[0m\u001b[1;33m\u001b[0m\u001b[0m\n\u001b[1;32m--> 173\u001b[1;33m                 \u001b[0mfile\u001b[0m \u001b[1;33m=\u001b[0m \u001b[0mself\u001b[0m\u001b[1;33m.\u001b[0m\u001b[0m_opener\u001b[0m\u001b[1;33m(\u001b[0m\u001b[1;33m*\u001b[0m\u001b[0mself\u001b[0m\u001b[1;33m.\u001b[0m\u001b[0m_args\u001b[0m\u001b[1;33m,\u001b[0m \u001b[1;33m**\u001b[0m\u001b[0mkwargs\u001b[0m\u001b[1;33m)\u001b[0m\u001b[1;33m\u001b[0m\u001b[1;33m\u001b[0m\u001b[0m\n\u001b[0m\u001b[0;32m    174\u001b[0m                 \u001b[1;32mif\u001b[0m \u001b[0mself\u001b[0m\u001b[1;33m.\u001b[0m\u001b[0m_mode\u001b[0m \u001b[1;33m==\u001b[0m \u001b[1;34m'w'\u001b[0m\u001b[1;33m:\u001b[0m\u001b[1;33m\u001b[0m\u001b[1;33m\u001b[0m\u001b[0m\n\u001b[0;32m    175\u001b[0m                     \u001b[1;31m# ensure file doesn't get overriden when opened again\u001b[0m\u001b[1;33m\u001b[0m\u001b[1;33m\u001b[0m\u001b[1;33m\u001b[0m\u001b[0m\n",
      "\u001b[1;32m~\\Anaconda3\\lib\\site-packages\\xarray\\backends\\netCDF4_.py\u001b[0m in \u001b[0;36m_open_netcdf4_group\u001b[1;34m(filename, lock, mode, group, **kwargs)\u001b[0m\n\u001b[0;32m    242\u001b[0m     \u001b[1;32mimport\u001b[0m \u001b[0mnetCDF4\u001b[0m \u001b[1;32mas\u001b[0m \u001b[0mnc4\u001b[0m\u001b[1;33m\u001b[0m\u001b[1;33m\u001b[0m\u001b[0m\n\u001b[0;32m    243\u001b[0m \u001b[1;33m\u001b[0m\u001b[0m\n\u001b[1;32m--> 244\u001b[1;33m     \u001b[0mds\u001b[0m \u001b[1;33m=\u001b[0m \u001b[0mnc4\u001b[0m\u001b[1;33m.\u001b[0m\u001b[0mDataset\u001b[0m\u001b[1;33m(\u001b[0m\u001b[0mfilename\u001b[0m\u001b[1;33m,\u001b[0m \u001b[0mmode\u001b[0m\u001b[1;33m=\u001b[0m\u001b[0mmode\u001b[0m\u001b[1;33m,\u001b[0m \u001b[1;33m**\u001b[0m\u001b[0mkwargs\u001b[0m\u001b[1;33m)\u001b[0m\u001b[1;33m\u001b[0m\u001b[1;33m\u001b[0m\u001b[0m\n\u001b[0m\u001b[0;32m    245\u001b[0m \u001b[1;33m\u001b[0m\u001b[0m\n\u001b[0;32m    246\u001b[0m     \u001b[1;32mwith\u001b[0m \u001b[0mclose_on_error\u001b[0m\u001b[1;33m(\u001b[0m\u001b[0mds\u001b[0m\u001b[1;33m)\u001b[0m\u001b[1;33m:\u001b[0m\u001b[1;33m\u001b[0m\u001b[1;33m\u001b[0m\u001b[0m\n",
      "\u001b[1;32mnetCDF4\\_netCDF4.pyx\u001b[0m in \u001b[0;36mnetCDF4._netCDF4.Dataset.__init__\u001b[1;34m()\u001b[0m\n",
      "\u001b[1;32mnetCDF4\\_netCDF4.pyx\u001b[0m in \u001b[0;36mnetCDF4._netCDF4._ensure_nc_success\u001b[1;34m()\u001b[0m\n",
      "\u001b[1;31mFileNotFoundError\u001b[0m: [Errno 2] No such file or directory: b'C:\\\\Users\\\\kathy\\\\research\\\\Sea-ice-concentration\\\\p_pro\\\\osi-401_sic_80_20190825.nc'"
     ]
    }
   ],
   "source": [
    "ds = xr.open_dataset('osi-401_sic_80_'+date+'.nc')\n",
    "ds"
   ]
  },
  {
   "cell_type": "code",
   "execution_count": 17,
   "metadata": {},
   "outputs": [],
   "source": [
    "ds.close()"
   ]
  },
  {
   "cell_type": "code",
   "execution_count": 21,
   "metadata": {},
   "outputs": [
    {
     "name": "stdout",
     "output_type": "stream",
     "text": [
      "0.0 100.0\n"
     ]
    }
   ],
   "source": [
    "SIC_o = ds.sic.values\n",
    "print(np.nanmin(SIC_o), np.nanmax(SIC_o))"
   ]
  },
  {
   "cell_type": "code",
   "execution_count": 23,
   "metadata": {},
   "outputs": [],
   "source": [
    "import matplotlib.pyplot as plt"
   ]
  },
  {
   "cell_type": "code",
   "execution_count": 24,
   "metadata": {},
   "outputs": [
    {
     "data": {
      "text/plain": [
       "<matplotlib.colorbar.Colorbar at 0x269bae8bf28>"
      ]
     },
     "execution_count": 24,
     "metadata": {},
     "output_type": "execute_result"
    },
    {
     "data": {
      "image/png": "[encoded data removed]",
      "text/plain": [
       "<Figure size 432x288 with 2 Axes>"
      ]
     },
     "metadata": {
      "needs_background": "light"
     },
     "output_type": "display_data"
    }
   ],
   "source": [
    "plt.imshow(SIC_o)\n",
    "plt.colorbar()"
   ]
  },
  {
   "cell_type": "code",
   "execution_count": null,
   "metadata": {},
   "outputs": [],
   "source": []
  }
 ],
 "metadata": {
  "kernelspec": {
   "display_name": "Python 3",
   "language": "python",
   "name": "python3"
  },
  "language_info": {
   "codemirror_mode": {
    "name": "ipython",
    "version": 3
   },
   "file_extension": ".py",
   "mimetype": "text/x-python",
   "name": "python",
   "nbconvert_exporter": "python",
   "pygments_lexer": "ipython3",
   "version": "3.7.1"
  }
 },
 "nbformat": 4,
 "nbformat_minor": 2
}
