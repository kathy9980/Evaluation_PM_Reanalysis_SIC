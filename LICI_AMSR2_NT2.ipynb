{
 "cells": [
  {
   "cell_type": "markdown",
   "metadata": {},
   "source": [
    "### LCCA AMSR2 NT2 SIC"
   ]
  },
  {
   "cell_type": "code",
   "execution_count": 1,
   "metadata": {},
   "outputs": [],
   "source": [
    "import glob\n",
    "import os\n",
    "import h5py\n",
    "import numpy as np\n",
    "#from matplotlib import pyplot  as plt\n",
    "import time"
   ]
  },
  {
   "cell_type": "code",
   "execution_count": 2,
   "metadata": {},
   "outputs": [],
   "source": [
    "''' Get all files under filepath '''\n",
    "def eachFile(filepath):\n",
    "    pathDir =  os.listdir(filepath)\n",
    "    f = []\n",
    "    for allDir in pathDir:\n",
    "        child = os.path.join('%s%s' % (filepath, allDir))\n",
    "        f.append(child)\n",
    "#        print (child) # .decode('gbk')是解决中文显示乱码问题\n",
    "    return f\n",
    "   "
   ]
  },
  {
   "cell_type": "code",
   "execution_count": 2,
   "metadata": {},
   "outputs": [],
   "source": [
    " \n",
    "''' Read SIC from hdf files '''\n",
    "def ReadSIC(filename):\n",
    "    f=h5py.File(filename,'r')    \n",
    "    dset=f['HDFEOS']['GRIDS']['NpPolarGrid12km']['Data Fields']['SI_12km_NH_ICECON_DAY']\n",
    "#     print('ok')\n",
    "    a = np.array(dset)\n",
    "    f.close()\n",
    "    return a\n",
    "    "
   ]
  },
  {
   "cell_type": "code",
   "execution_count": 2,
   "metadata": {},
   "outputs": [],
   "source": [
    "def CountLow(sic,lim1,lim2):\n",
    "    \n",
    "    \"\"\"\n",
    "    Input: sic,冰密集度日数据; \n",
    "           lim1,纬度下限;\n",
    "           lim2,纬度上限\n",
    "    Output: a_low,低值面积;\n",
    "            a_total,总面积;\n",
    "            LCCA,低值面积/总面积  \n",
    "    \"\"\" \n",
    "    Lat = np.load('D:\\\\Arctic\\\\data\\\\GeoData\\\\r12.5km\\\\Lat_12.npy')\n",
    "#    Lat = np.load('D:\\\\Arctic\\\\LowValue_winter\\\\GeoData\\\\r12.5km\\\\Lat_12.npy')\n",
    "    hLat = np.array(Lat)\n",
    "    Pix_Area = np.load('D:\\\\Arctic\\\\data\\\\GeoData\\\\r12.5km\\\\Pix_Area_12.npy')\n",
    "#    Pix_Area = np.load('D:\\\\Arctic\\\\LowValue_winter\\\\GeoData\\\\r12.5km\\\\Pix_Area_12.npy')\n",
    "    Pix_Area = np.array(Pix_Area)\n",
    "    \n",
    "    hLat[hLat<lim1] = np.nan  # 小于lim1的Lat置作nan;\n",
    "    sic[hLat != hLat] = 999  #  纬度小于lim1区域的SIC记作999\n",
    "    sic[hLat>lim2] = 999  # 纬度大于lim2区域的SIC记作999\n",
    "#    a_hole = np.sum(Pix_Area[hdata != hdata])\n",
    "    ''' Study area —— not 999'''\n",
    "    a_total = np.sum(Pix_Area[sic != 999])\n",
    "#    print('Study area：%f' %a_total)\n",
    "    '''Low ice area ——  (15% - 75%)'''\n",
    "    a_low = np.sum(Pix_Area[sic<75]) - np.sum(Pix_Area[sic<15])  \n",
    "#    print('Low ice area：%f' %a_low)  \n",
    "    return a_low/a_total*100"
   ]
  },
  {
   "cell_type": "code",
   "execution_count": 6,
   "metadata": {},
   "outputs": [],
   "source": [
    "FilePath = \"D:\\\\AMSR2-NT2\\\\2019\\\\\" \n",
    "FileName = eachFile(FilePath)"
   ]
  },
  {
   "cell_type": "code",
   "execution_count": 11,
   "metadata": {},
   "outputs": [
    {
     "data": {
      "text/plain": [
       "'20190601'"
      ]
     },
     "execution_count": 11,
     "metadata": {},
     "output_type": "execute_result"
    }
   ],
   "source": [
    "date = FileName[0][-12:-4]\n",
    "date"
   ]
  },
  {
   "cell_type": "code",
   "execution_count": 15,
   "metadata": {},
   "outputs": [
    {
     "name": "stdout",
     "output_type": "stream",
     "text": [
      "ok\n",
      "ok\n"
     ]
    },
    {
     "name": "stderr",
     "output_type": "stream",
     "text": [
      "C:\\Users\\kathy\\Anaconda3\\lib\\site-packages\\ipykernel_launcher.py:40: RuntimeWarning: invalid value encountered in greater\n"
     ]
    },
    {
     "name": "stdout",
     "output_type": "stream",
     "text": [
      "ok\n",
      "ok\n",
      "ok\n",
      "ok\n",
      "ok\n",
      "ok\n",
      "ok\n",
      "ok\n",
      "ok\n",
      "ok\n",
      "ok\n",
      "ok\n",
      "ok\n",
      "ok\n",
      "ok\n",
      "ok\n",
      "ok\n",
      "ok\n",
      "ok\n",
      "ok\n",
      "ok\n",
      "ok\n",
      "ok\n",
      "ok\n",
      "ok\n",
      "ok\n",
      "ok\n",
      "ok\n",
      "ok\n",
      "ok\n",
      "ok\n",
      "ok\n",
      "ok\n",
      "ok\n",
      "ok\n",
      "ok\n",
      "ok\n",
      "ok\n",
      "ok\n",
      "ok\n",
      "ok\n",
      "ok\n",
      "ok\n",
      "ok\n",
      "ok\n",
      "ok\n",
      "ok\n",
      "ok\n",
      "ok\n",
      "ok\n",
      "ok\n",
      "ok\n",
      "ok\n",
      "ok\n",
      "ok\n",
      "ok\n",
      "ok\n",
      "ok\n",
      "ok\n",
      "ok\n",
      "ok\n",
      "ok\n",
      "ok\n",
      "ok\n",
      "ok\n",
      "ok\n",
      "ok\n",
      "ok\n",
      "ok\n",
      "ok\n",
      "ok\n",
      "ok\n",
      "ok\n",
      "ok\n",
      "ok\n",
      "ok\n",
      "ok\n",
      "ok\n",
      "ok\n",
      "ok\n",
      "ok\n",
      "ok\n",
      "ok\n",
      "ok\n",
      "ok\n",
      "ok\n",
      "ok\n",
      "ok\n",
      "ok\n",
      "ok\n",
      "ok\n",
      "ok\n",
      "ok\n",
      "ok\n",
      "ok\n",
      "ok\n",
      "ok\n",
      "ok\n",
      "ok\n",
      "ok\n",
      "ok\n",
      "ok\n",
      "ok\n",
      "ok\n",
      "ok\n",
      "ok\n",
      "ok\n",
      "ok\n",
      "ok\n",
      "ok\n",
      "ok\n",
      "ok\n",
      "ok\n",
      "ok\n",
      "ok\n",
      "ok\n",
      "ok\n",
      "ok\n",
      "ok\n",
      "ok\n",
      "ok\n",
      "ok\n",
      "ok\n",
      "ok\n",
      "ok\n",
      "ok\n",
      "ok\n",
      "ok\n",
      "ok\n",
      "ok\n",
      "ok\n",
      "ok\n",
      "ok\n",
      "ok\n",
      "ok\n",
      "ok\n",
      "ok\n",
      "ok\n",
      "ok\n",
      "ok\n",
      "ok\n",
      "ok\n",
      "ok\n",
      "ok\n",
      "ok\n",
      "ok\n",
      "ok\n",
      "ok\n",
      "ok\n",
      "ok\n",
      "ok\n",
      "success\n"
     ]
    }
   ],
   "source": [
    "''' main 函数  '''\n",
    "\n",
    "#FilePath = \"D:\\\\AMSR2-NT2\\\\2012\\\\B01\\\\test\\\\\"  #测试路径\n",
    "FilePath = \"D:\\\\AMSR2-NT2\\\\2019\\\\\" \n",
    "FileName = eachFile(FilePath)\n",
    "\n",
    "Year = '2019'\n",
    "\n",
    "file = open('NT2-AMSR2-SIC-LCCA-'+Year+'-KD.txt','w')\n",
    "for filename in FileName:\n",
    "    \n",
    "    date = filename[-12:-4]\n",
    "    \n",
    "    SIC = ReadSIC(filename)\n",
    "    lcca = CountLow(SIC,84,88.3)\n",
    "\n",
    "    file.write('%10s %.2f' %(date,lcca))\n",
    "    file.write('\\n')\n",
    "\n",
    "file.close()\n",
    "print('success')"
   ]
  },
  {
   "cell_type": "code",
   "execution_count": 5,
   "metadata": {},
   "outputs": [
    {
     "data": {
      "text/plain": [
       "[]"
      ]
     },
     "execution_count": 5,
     "metadata": {},
     "output_type": "execute_result"
    }
   ],
   "source": [
    "FileName"
   ]
  },
  {
   "cell_type": "code",
   "execution_count": null,
   "metadata": {},
   "outputs": [],
   "source": []
  }
 ],
 "metadata": {
  "kernelspec": {
   "display_name": "Python 3",
   "language": "python",
   "name": "python3"
  },
  "language_info": {
   "codemirror_mode": {
    "name": "ipython",
    "version": 3
   },
   "file_extension": ".py",
   "mimetype": "text/x-python",
   "name": "python",
   "nbconvert_exporter": "python",
   "pygments_lexer": "ipython3",
   "version": "3.7.1"
  }
 },
 "nbformat": 4,
 "nbformat_minor": 2
}
