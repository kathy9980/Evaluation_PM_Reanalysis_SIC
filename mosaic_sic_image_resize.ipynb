{
 "cells": [
  {
   "cell_type": "code",
   "execution_count": 1,
   "metadata": {},
   "outputs": [],
   "source": [
    "import os\n",
    "import numpy as np\n",
    "import xarray as xr\n",
    "import netCDF4"
   ]
  },
  {
   "cell_type": "code",
   "execution_count": 2,
   "metadata": {},
   "outputs": [],
   "source": [
    "def FileList(path):\n",
    "    '''\n",
    "    Return all files with assigned surffix.\n",
    "    '''\n",
    "    fl=[]\n",
    "    for f in os.listdir(path):\n",
    "#         if f.endswith('.nc'):\n",
    "        if f.endswith(tuple(['.hdf','he5','nc'])):\n",
    "            fl.append(f)\n",
    "    return fl   "
   ]
  },
  {
   "cell_type": "code",
   "execution_count": 3,
   "metadata": {},
   "outputs": [],
   "source": [
    "path = 'D:\\\\MOD09GA\\\\NT2\\\\Aqua\\\\'\n",
    "# path = 'D:\\\\MOD09GA\\\\NT2\\\\Terra\\\\'\n",
    "# path = 'D:\\\\MOD09GA\\\\ASI\\\\Terra'\n",
    "# path = 'D:\\\\MOD09GA\\\\ASI\\\\Aqua'\n",
    "# path = 'D:\\\\MOD09GA\\\\OSI-408'\n",
    "# path = 'D:\\\\kexin\\\\MOD09GA\\\\'  # new hard disk\n",
    "\n",
    "# \n",
    "FL = FileList(path)"
   ]
  },
  {
   "cell_type": "code",
   "execution_count": 4,
   "metadata": {},
   "outputs": [
    {
     "data": {
      "text/plain": [
       "['mosaic_20070822.nc',\n",
       " 'mosaic_20100806.nc',\n",
       " 'mosaic_20100831.nc',\n",
       " 'mosaic_20100906.nc',\n",
       " 'mosaic_20110810.nc',\n",
       " 'mosaic_20110825.nc',\n",
       " 'mosaic_20120831.nc',\n",
       " 'mosaic_20120916.nc',\n",
       " 'mosaic_20130817.nc',\n",
       " 'mosaic_20160908.nc',\n",
       " 'mosaic_20190828.nc',\n",
       " 'mosaic_sic_20070822.nc']"
      ]
     },
     "execution_count": 4,
     "metadata": {},
     "output_type": "execute_result"
    }
   ],
   "source": [
    "FL"
   ]
  },
  {
   "cell_type": "code",
   "execution_count": 5,
   "metadata": {},
   "outputs": [
    {
     "name": "stdout",
     "output_type": "stream",
     "text": [
      "20070822\n"
     ]
    }
   ],
   "source": [
    "date = FL[-1][-11:-3]\n",
    "# date = FL[7][-11:-3]\n",
    "\n",
    "\n",
    "ds = xr.open_dataset(os.path.join(path,FL[-1]))\n",
    "# ds = xr.open_dataset(os.path.join(path,FL[7]))  ## 20120910 NT2\n",
    "# ds\n",
    "\n",
    "print(date)"
   ]
  },
  {
   "cell_type": "code",
   "execution_count": 6,
   "metadata": {},
   "outputs": [],
   "source": [
    "sic_s = ds.sic.values[1502:3202,1100:2900]\n",
    "cloud_mask_s = ds.cloud_mask.values[1502:3202,1100:2900]\n",
    "lon_s = ds.lon.values[1502:3202,1100:2900]\n",
    "lat_s = ds.lat.values[1502:3202,1100:2900]\n"
   ]
  },
  {
   "cell_type": "code",
   "execution_count": 7,
   "metadata": {},
   "outputs": [],
   "source": [
    "ds2 = xr.Dataset({'sic': (['x', 'y'],  sic_s),\n",
    "                 'cloud_mask': (['x', 'y'], cloud_mask_s)},\n",
    "                  coords={'lon': (['x', 'y'], lon_s),\n",
    "                       'lat': (['x', 'y'], lat_s)\n",
    "                         })"
   ]
  },
  {
   "cell_type": "code",
   "execution_count": 8,
   "metadata": {},
   "outputs": [],
   "source": [
    "savepath = 'C:\\\\Users\\\\kathy\\\\research\\\\Sea-ice-concentration\\\\data\\\\MOD-SIC\\\\'\n",
    "ds2.to_netcdf(savepath+'MOD_sic_'+date+'.nc')"
   ]
  },
  {
   "cell_type": "code",
   "execution_count": 9,
   "metadata": {},
   "outputs": [],
   "source": [
    "# os.getcwd()"
   ]
  },
  {
   "cell_type": "code",
   "execution_count": 10,
   "metadata": {},
   "outputs": [],
   "source": [
    "# ds2.sic.plot()"
   ]
  },
  {
   "cell_type": "code",
   "execution_count": 11,
   "metadata": {},
   "outputs": [
    {
     "data": {
      "text/plain": [
       "'20070822'"
      ]
     },
     "execution_count": 11,
     "metadata": {},
     "output_type": "execute_result"
    }
   ],
   "source": [
    "date"
   ]
  },
  {
   "cell_type": "code",
   "execution_count": 12,
   "metadata": {},
   "outputs": [
    {
     "data": {
      "text/plain": [
       "<bound method DataWithCoords.close of <xarray.Dataset>\n",
       "Dimensions:                      (x: 3907, y: 4511)\n",
       "Coordinates:\n",
       "    lat                          (y, x) float32 0.0 0.0 0.0 0.0 ... 0.0 0.0 0.0\n",
       "    lon                          (y, x) float32 0.0 0.0 0.0 0.0 ... 0.0 0.0 0.0\n",
       "Dimensions without coordinates: x, y\n",
       "Data variables:\n",
       "    metadata                     int8 ...\n",
       "    QC_500m_1                    (y, x) float32 ...\n",
       "    QC_500m_1_count              (y, x) int32 ...\n",
       "    Range_1                      (y, x) float32 ...\n",
       "    Range_1_count                (y, x) int32 ...\n",
       "    SensorAzimuth_1              (y, x) float32 ...\n",
       "    SensorAzimuth_1_count        (y, x) int32 ...\n",
       "    SensorZenith_1               (y, x) float32 ...\n",
       "    SensorZenith_1_count         (y, x) int32 ...\n",
       "    SolarAzimuth_1               (y, x) float32 ...\n",
       "    SolarAzimuth_1_count         (y, x) int32 ...\n",
       "    SolarZenith_1                (y, x) float32 ...\n",
       "    SolarZenith_1_count          (y, x) int32 ...\n",
       "    gflags_1                     (y, x) float32 ...\n",
       "    gflags_1_count               (y, x) int32 ...\n",
       "    granule_pnt_1                (y, x) float32 ...\n",
       "    granule_pnt_1_count          (y, x) int32 ...\n",
       "    iobs_res_1                   (y, x) float32 ...\n",
       "    iobs_res_1_count             (y, x) int32 ...\n",
       "    lat_count                    (y, x) int32 ...\n",
       "    lon_count                    (y, x) int32 ...\n",
       "    num_observations_1km         (y, x) float32 ...\n",
       "    num_observations_1km_count   (y, x) int32 ...\n",
       "    num_observations_500m        (y, x) float32 ...\n",
       "    num_observations_500m_count  (y, x) int32 ...\n",
       "    obscov_500m_1                (y, x) float32 ...\n",
       "    obscov_500m_1_count          (y, x) int32 ...\n",
       "    orbit_pnt_1                  (y, x) float32 ...\n",
       "    orbit_pnt_1_count            (y, x) int32 ...\n",
       "    q_scan_1                     (y, x) float32 ...\n",
       "    q_scan_1_count               (y, x) int32 ...\n",
       "    state_1km_1                  (y, x) float32 ...\n",
       "    state_1km_1_count            (y, x) int32 ...\n",
       "    sur_refl_b01_1               (y, x) float32 ...\n",
       "    sur_refl_b01_1_count         (y, x) int32 ...\n",
       "    sur_refl_b02_1               (y, x) float32 ...\n",
       "    sur_refl_b02_1_count         (y, x) int32 ...\n",
       "    sur_refl_b03_1               (y, x) float32 ...\n",
       "    sur_refl_b03_1_count         (y, x) int32 ...\n",
       "    sur_refl_b04_1               (y, x) float32 ...\n",
       "    sur_refl_b04_1_count         (y, x) int32 ...\n",
       "    sur_refl_b05_1               (y, x) float32 ...\n",
       "    sur_refl_b05_1_count         (y, x) int32 ...\n",
       "    sur_refl_b06_1               (y, x) float32 ...\n",
       "    sur_refl_b06_1_count         (y, x) int32 ...\n",
       "    sur_refl_b07_1               (y, x) float32 ...\n",
       "    sur_refl_b07_1_count         (y, x) int32 ...\n",
       "    crs                          int32 ...\n",
       "    sic                          (y, x) float64 0.0 0.0 0.0 0.0 ... 0.0 0.0 0.0\n",
       "    cloud_mask                   (y, x) float64 0.0 0.0 0.0 0.0 ... 0.0 0.0 0.0\n",
       "Attributes:\n",
       "    Conventions:       CF-1.4\n",
       "    TileSize:          347:391\n",
       "    product_type:      BEAM_MOSAIC\n",
       "    metadata_profile:  beam\n",
       "    metadata_version:  0.5>"
      ]
     },
     "execution_count": 12,
     "metadata": {},
     "output_type": "execute_result"
    }
   ],
   "source": [
    "ds.close"
   ]
  },
  {
   "cell_type": "code",
   "execution_count": null,
   "metadata": {},
   "outputs": [],
   "source": []
  }
 ],
 "metadata": {
  "kernelspec": {
   "display_name": "Python 3",
   "language": "python",
   "name": "python3"
  },
  "language_info": {
   "codemirror_mode": {
    "name": "ipython",
    "version": 3
   },
   "file_extension": ".py",
   "mimetype": "text/x-python",
   "name": "python",
   "nbconvert_exporter": "python",
   "pygments_lexer": "ipython3",
   "version": "3.7.1"
  }
 },
 "nbformat": 4,
 "nbformat_minor": 2
}
