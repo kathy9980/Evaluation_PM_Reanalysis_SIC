{
 "cells": [
  {
   "cell_type": "markdown",
   "metadata": {},
   "source": [
    "## Find LCCA Peak - ASI, NT2, ERA5, OSISAF408, MERRA2\n",
    "\n",
    "- scipy.signal.find_peaks\n",
    "- input: LCCA index\n",
    "- output: peak data, peak value"
   ]
  },
  {
   "cell_type": "code",
   "execution_count": 1,
   "metadata": {},
   "outputs": [],
   "source": [
    "import datetime as dt\n",
    "import numpy as np\n",
    "from netCDF4 import Dataset\n",
    "from scipy.signal import find_peaks\n",
    "import pickle"
   ]
  },
  {
   "cell_type": "code",
   "execution_count": 2,
   "metadata": {},
   "outputs": [],
   "source": [
    "def ReadLCCA(filename):\n",
    "    '''\n",
    "    Read data and LCCA value form txt files\n",
    "    '''\n",
    "    file = open(filename,'r')\n",
    "    date = []       # peak date\n",
    "    val = []        # peak value\n",
    "    try:\n",
    "        for line in file.readlines():\n",
    "    #            print(line)\n",
    "            if line[0]!='\\n':\n",
    "                date.append(dt.datetime.strptime(line.split()[0],\"%Y%m%d\"))                \n",
    "                val.append(float(line.split()[1]))\n",
    "    finally:\n",
    "        file.close()\n",
    "    \n",
    "    return date,val"
   ]
  },
  {
   "cell_type": "code",
   "execution_count": 13,
   "metadata": {},
   "outputs": [],
   "source": [
    "def switch_path(type):\n",
    "    pub_path = \"C:\\\\Users\\\\kathy\\\\research\\\\Sea-ice-concentration\\\\data\\\\LCCA\\\\\"\n",
    "    \n",
    "    switcher = {\n",
    "        ASI: pub_path+\"ASI_2002_2019\\\\\",\n",
    "        NT2: pub_path+\"NT2_2002_2019\\\\\",\n",
    "        ERA5: pub_path+'ERA5_2002_2019\\\\',\n",
    "        OSI401: pub_path+'OSI-401\\\\',\n",
    "        OSI408: pub_path+'OSI-408\\\\',\n",
    "        MERRA2: pub_path+'MERRA2_2002_2019\\\\'\n",
    "    }\n",
    "    \n",
    "    return switcher.get(type, \"nothing\") "
   ]
  },
  {
   "cell_type": "code",
   "execution_count": 5,
   "metadata": {},
   "outputs": [],
   "source": [
    "ASI = 'ASI-SIC-LCCA-'\n",
    "NT2 = 'NT2-SIC-LCCA-'\n",
    "ERA5 = 'ERA5-SIC-LCCA-'\n",
    "OSI401 = 'OSI-SSMI-SIC-LCCA-'\n",
    "OSI408 = 'OSI-AMSR2-SIC-LCCA-'\n",
    "MERRA2 = 'MERRA2-SIC-LCCA-'"
   ]
  },
  {
   "cell_type": "markdown",
   "metadata": {},
   "source": [
    "### 1. ASI SIC LCCA PEAKS"
   ]
  },
  {
   "cell_type": "code",
   "execution_count": null,
   "metadata": {},
   "outputs": [],
   "source": [
    "if __name__ == \"__main__\":\n",
    "\n",
    "    SavePath = 'C:\\\\Users\\\\kathy\\\\research\\\\Sea-ice-concentration\\\\data\\\\LCCA\\\\' \n",
    "    \n",
    "    year = ['2019']\n",
    "    \n",
    "    for i in year:\n",
    "        \n",
    "        filename = switch_path(ASI) + ASI + i + '-KD.txt'\n",
    "#         fname1 = switch_path(NT2) + NT2 + year + '-KD.txt'\n",
    "#         fname2 = switch_path(ERA5) + ERA5 + year + '-KD.txt'\n",
    "#         fname3 = switch_path(OSI401) + OSI401 + year + '-KD.txt'\n",
    "#         fname4 = switch_path(OSI408) + OSI408 + year + '-KD.txt'\n",
    "    \n",
    "        # Read LCCA data\n",
    "        Dates,LCCA = ReadLCCA(filename)    \n",
    "\n",
    "        # Detect LCCA Peaks\n",
    "        p_ind,_ = find_peaks(LCCA,height=5,distance=7)\n",
    "        \n",
    "        # Save Peaks info to *.txt  \n",
    "        f = open(SavePath+str(i)+'_LCCA_Peak_ASI.txt','w')\n",
    "        \n",
    "        for j in range (len(p_ind)):\n",
    "            ind = p_ind[j]\n",
    "            f.write('%10s %.2f'%(Dates[ind].date(),LCCA[ind]))\n",
    "            f.write('\\n')\n",
    "            print('%10s %f'%(Dates[ind].date(),LCCA[ind]))  # 输出：日期 峰值\n",
    "        f.write('\\n')\n",
    "        print('\\n')  \n",
    "        f.close()\n",
    "\n",
    "        \n",
    "        \n",
    "        \n",
    "        ''' Plot LCCA with peaks '''\n",
    "        LCCA = np.array(LCCA)    \n",
    "        Dates = np.array(Dates)\n",
    "        \n",
    "        import matplotlib.pyplot as plt\n",
    "        \n",
    "#        plt.plot(Dates,LCCA,'seagreen',label='ERA 5')\n",
    "#        plt.plot(Dates,LCCA,'magenta',label='NT2')\n",
    "        plt.plot(Dates,LCCA,'blue',label='ASI')\n",
    "        plt.plot(Dates[p_ind],LCCA[p_ind],\"*\",color=\"purple\",label=\"Peaks\")     \n",
    "                \n",
    "        plt.ylim(-1,65)\n",
    "        \n",
    "        plt.legend(loc=2)\n",
    "        \n",
    "        plt.xlabel(\"Time\",fontsize=16)\n",
    "        plt.ylabel(\"LCCA Index (%)\",fontsize=16)\n",
    "\n",
    "#         plt.show()\n",
    "#        plt.savefig(SavePath+str(i)+'_LCCA_Peak_ERA5.jpg')\n",
    "        plt.savefig(SavePath+str(i)+'_LCCA_Peak_ASI.jpg')\n",
    "    \n",
    "    print(\"finished\")\n",
    "        "
   ]
  },
  {
   "cell_type": "markdown",
   "metadata": {},
   "source": [
    "### 2. OSISAF 408 SIC LCCA PEAKS"
   ]
  },
  {
   "cell_type": "code",
   "execution_count": 22,
   "metadata": {},
   "outputs": [
    {
     "name": "stdout",
     "output_type": "stream",
     "text": [
      "\n",
      "\n",
      "2017-07-08 13.260000\n",
      "2017-07-21 33.190000\n",
      "2017-07-31 8.110000\n",
      "2017-08-07 18.810000\n",
      "2017-08-17 34.350000\n",
      "2017-08-28 26.520000\n",
      "2017-09-04 10.230000\n",
      "2017-10-28 5.830000\n",
      "\n",
      "\n",
      "2018-07-01 9.840000\n",
      "2018-07-10 17.670000\n",
      "2018-08-17 7.680000\n",
      "2018-08-30 21.700000\n",
      "2018-09-09 12.270000\n",
      "\n",
      "\n",
      "2019-06-28 14.320000\n",
      "2019-07-14 7.000000\n",
      "2019-08-14 12.790000\n",
      "2019-08-23 32.060000\n",
      "2019-08-30 9.340000\n",
      "\n",
      "\n",
      "finished\n"
     ]
    }
   ],
   "source": [
    "if __name__ == \"__main__\":\n",
    "\n",
    "    SavePath = 'C:\\\\Users\\\\kathy\\\\research\\\\Sea-ice-concentration\\\\data\\\\LCCA\\\\' \n",
    "    \n",
    "    year = ['2016','2017','2018','2019']\n",
    "    \n",
    "    for i in year:\n",
    "        \n",
    "        filename = switch_path(OSI408) + OSI408 + i + '-KD.txt'\n",
    "    \n",
    "        # Read LCCA data\n",
    "        Dates,LCCA = ReadLCCA(filename)    \n",
    "\n",
    "        # Detect LCCA Peaks\n",
    "        p_ind,_ = find_peaks(LCCA,height=5,distance=7)\n",
    "        \n",
    "        # Save Peaks info to *.txt  \n",
    "        f = open(SavePath+str(i)+'_LCCA_Peak_OSI408.txt','w')\n",
    "        \n",
    "        for j in range (len(p_ind)):\n",
    "            ind = p_ind[j]\n",
    "            f.write('%10s %.2f'%(Dates[ind].date(),LCCA[ind]))\n",
    "            f.write('\\n')\n",
    "            print('%10s %f'%(Dates[ind].date(),LCCA[ind]))  # 输出：日期 峰值\n",
    "        f.write('\\n')\n",
    "        print('\\n')  \n",
    "        f.close()      \n",
    "        \n",
    "        ''' Plot LCCA with peaks '''\n",
    "        LCCA = np.array(LCCA)    \n",
    "        Dates = np.array(Dates)\n",
    "        \n",
    "        import matplotlib.pyplot as plt\n",
    "        \n",
    "#        plt.plot(Dates,LCCA,'seagreen',label='ERA 5')\n",
    "#        plt.plot(Dates,LCCA,'magenta',label='NT2')\n",
    "        plt.plot(Dates,LCCA,'black',label='OSI-408')\n",
    "        plt.plot(Dates[p_ind],LCCA[p_ind],\"*\",color=\"purple\",label=\"Peaks\")     \n",
    "                \n",
    "        plt.ylim(-1,65)\n",
    "        \n",
    "        plt.legend(loc=2)\n",
    "        \n",
    "        plt.xlabel(\"Time\",fontsize=16)\n",
    "        plt.ylabel(\"LCCA Index (%)\",fontsize=16)\n",
    "\n",
    "#         plt.show()\n",
    "        plt.savefig(SavePath+str(i)+'_LCCA_Peak_OSI408.jpg')\n",
    "        plt.close()\n",
    "    \n",
    "    print(\"finished\")\n",
    "        "
   ]
  },
  {
   "cell_type": "markdown",
   "metadata": {},
   "source": [
    "### 3. NT2 SIC LCCA PEAKS"
   ]
  },
  {
   "cell_type": "code",
   "execution_count": 13,
   "metadata": {},
   "outputs": [
    {
     "name": "stdout",
     "output_type": "stream",
     "text": [
      "2019-08-23 9.880000\n",
      "2019-08-30 5.940000\n",
      "\n",
      "\n",
      "finished\n"
     ]
    },
    {
     "data": {
      "image/png": "[encoded data removed]",
      "text/plain": [
       "<Figure size 432x288 with 1 Axes>"
      ]
     },
     "metadata": {
      "needs_background": "light"
     },
     "output_type": "display_data"
    }
   ],
   "source": [
    "if __name__ == \"__main__\":\n",
    "\n",
    "    SavePath = 'C:\\\\Users\\\\kathy\\\\research\\\\Sea-ice-concentration\\\\data\\\\LCCA\\\\' \n",
    "    \n",
    "    year = ['2019']\n",
    "    \n",
    "    for i in year:\n",
    "        \n",
    "        filename = switch_path(NT2) + NT2 + i + '-KD.txt'\n",
    "    \n",
    "        # Read LCCA data\n",
    "        Dates,LCCA = ReadLCCA(filename)    \n",
    "\n",
    "        # Detect LCCA Peaks\n",
    "        p_ind,_ = find_peaks(LCCA,height=5,distance=7)\n",
    "        \n",
    "        # Save Peaks info to *.txt  \n",
    "        f = open(SavePath+str(i)+'_LCCA_Peak_NT2.txt','w')\n",
    "        \n",
    "        for j in range (len(p_ind)):\n",
    "            ind = p_ind[j]\n",
    "            f.write('%10s %.2f'%(Dates[ind].date(),LCCA[ind]))\n",
    "            f.write('\\n')\n",
    "            print('%10s %f'%(Dates[ind].date(),LCCA[ind]))  # 输出：日期 峰值\n",
    "        f.write('\\n')\n",
    "        print('\\n')  \n",
    "        f.close()      \n",
    "        \n",
    "        ''' Plot LCCA with peaks '''\n",
    "        LCCA = np.array(LCCA)    \n",
    "        Dates = np.array(Dates)\n",
    "        \n",
    "        import matplotlib.pyplot as plt\n",
    "        \n",
    "#        plt.plot(Dates,LCCA,'seagreen',label='ERA 5')\n",
    "        plt.plot(Dates,LCCA,'magenta',label='NT2')\n",
    "#         plt.plot(Dates,LCCA,'black',label='OSI-408')\n",
    "        plt.plot(Dates[p_ind],LCCA[p_ind],\"*\",color=\"purple\",label=\"Peaks\")     \n",
    "                \n",
    "        plt.ylim(-1,65)\n",
    "        \n",
    "        plt.legend(loc=2)\n",
    "        \n",
    "        plt.xlabel(\"Time\",fontsize=16)\n",
    "        plt.ylabel(\"LCCA Index (%)\",fontsize=16)\n",
    "\n",
    "#         plt.show()\n",
    "        plt.savefig(SavePath+str(i)+'_LCCA_Peak_NT2.jpg')\n",
    "#         plt.close()\n",
    "    \n",
    "    print(\"finished\")\n",
    "        "
   ]
  },
  {
   "cell_type": "markdown",
   "metadata": {},
   "source": [
    "### 4. MERRA2 SIC LCCA"
   ]
  },
  {
   "cell_type": "code",
   "execution_count": 17,
   "metadata": {},
   "outputs": [
    {
     "name": "stdout",
     "output_type": "stream",
     "text": [
      "2016-07-16 13.030000\n",
      "2016-07-28 17.050000\n",
      "2016-08-25 60.070000\n",
      "2016-09-03 60.510000\n",
      "2016-09-19 18.070000\n",
      "2016-10-17 50.420000\n",
      "\n",
      "\n",
      "finished\n"
     ]
    }
   ],
   "source": [
    "if __name__ == \"__main__\":\n",
    "\n",
    "    SavePath = 'C:\\\\Users\\\\kathy\\\\research\\\\Sea-ice-concentration\\\\data\\\\LCCA-Peaks\\\\' \n",
    "    \n",
    "#     year = ['2002','2003','2004','2005','2006','2007','2008','2009','2010']\n",
    "#     year = ['2011','2012','2013','2014','2015','2016','2017','2018','2019']\n",
    "    year = ['2016']\n",
    "    \n",
    "    for i in year:\n",
    "        \n",
    "        filename = switch_path(MERRA2) + MERRA2 + i + '-KD.txt'\n",
    "    \n",
    "        # Read LCCA data\n",
    "        Dates,LCCA = ReadLCCA(filename)    \n",
    "\n",
    "        # Detect LCCA Peaks\n",
    "        p_ind,_ = find_peaks(LCCA,height=5,distance=7)\n",
    "        \n",
    "        # Save Peaks info to *.txt  \n",
    "        f = open(SavePath+str(i)+'_LCCA_Peak_MERRA2.txt','w')\n",
    "        \n",
    "        for j in range (len(p_ind)):\n",
    "            ind = p_ind[j]\n",
    "            f.write('%10s %.2f'%(Dates[ind].date(),LCCA[ind]))\n",
    "            f.write('\\n')\n",
    "            print('%10s %f'%(Dates[ind].date(),LCCA[ind]))  # 输出：日期 峰值\n",
    "        f.write('\\n')\n",
    "        print('\\n')  \n",
    "        f.close()      \n",
    "        \n",
    "        ''' Plot LCCA with peaks '''\n",
    "        LCCA = np.array(LCCA)    \n",
    "        Dates = np.array(Dates)\n",
    "        \n",
    "        import matplotlib.pyplot as plt\n",
    "        \n",
    "#        plt.plot(Dates,LCCA,'seagreen',label='ERA 5')\n",
    "#         plt.plot(Dates,LCCA,'magenta',label='NT2')\n",
    "        plt.plot(Dates,LCCA,'cyan',label='MERRA2')\n",
    "        plt.plot(Dates[p_ind],LCCA[p_ind],\"*\",color=\"purple\",label=\"Peaks\")     \n",
    "                \n",
    "        plt.ylim(-1,65)\n",
    "        \n",
    "        plt.legend(loc=2)\n",
    "        \n",
    "        plt.xlabel(\"Time\",fontsize=16)\n",
    "        plt.ylabel(\"LCCA Index (%)\",fontsize=16)\n",
    "\n",
    "#         plt.show()\n",
    "        plt.savefig(SavePath+str(i)+'_LCCA_Peak_MERRA2.jpg')\n",
    "        plt.close()\n",
    "    \n",
    "    print(\"finished\")\n",
    "        "
   ]
  },
  {
   "cell_type": "markdown",
   "metadata": {},
   "source": [
    "### 5. ERA SIC LCCA"
   ]
  },
  {
   "cell_type": "code",
   "execution_count": 16,
   "metadata": {},
   "outputs": [
    {
     "name": "stdout",
     "output_type": "stream",
     "text": [
      "2019-06-27 7.630000\n",
      "2019-07-14 5.120000\n",
      "2019-08-14 19.370000\n",
      "2019-08-25 33.200000\n",
      "2019-09-03 22.750000\n",
      "\n",
      "\n",
      "finished\n"
     ]
    },
    {
     "data": {
      "image/png": "[encoded data removed]",
      "text/plain": [
       "<Figure size 432x288 with 1 Axes>"
      ]
     },
     "metadata": {
      "needs_background": "light"
     },
     "output_type": "display_data"
    }
   ],
   "source": [
    "if __name__ == \"__main__\":\n",
    "\n",
    "    SavePath = 'C:\\\\Users\\\\kathy\\\\research\\\\Sea-ice-concentration\\\\data\\\\LCCA-Peaks\\\\' \n",
    "    \n",
    "    year = ['2019']\n",
    "    \n",
    "    for i in year:\n",
    "        \n",
    "        filename = switch_path(ERA5) + ERA5 + i + '-KD.txt'\n",
    "    \n",
    "        # Read LCCA data\n",
    "        Dates,LCCA = ReadLCCA(filename)    \n",
    "\n",
    "        # Detect LCCA Peaks\n",
    "        p_ind,_ = find_peaks(LCCA,height=5,distance=7)\n",
    "        \n",
    "        # Save Peaks info to *.txt  \n",
    "        f = open(SavePath+str(i)+'_LCCA_Peak_ERA5.txt','w')\n",
    "        \n",
    "        for j in range (len(p_ind)):\n",
    "            ind = p_ind[j]\n",
    "            f.write('%10s %.2f'%(Dates[ind].date(),LCCA[ind]))\n",
    "            f.write('\\n')\n",
    "            print('%10s %f'%(Dates[ind].date(),LCCA[ind]))  # 输出：日期 峰值\n",
    "        f.write('\\n')\n",
    "        print('\\n')  \n",
    "        f.close()      \n",
    "        \n",
    "        ''' Plot LCCA with peaks '''\n",
    "        LCCA = np.array(LCCA)    \n",
    "        Dates = np.array(Dates)\n",
    "        \n",
    "        import matplotlib.pyplot as plt\n",
    "        \n",
    "        plt.plot(Dates,LCCA,'seagreen',label='ERA 5')\n",
    "#         plt.plot(Dates,LCCA,'magenta',label='NT2')\n",
    "#         plt.plot(Dates,LCCA,'black',label='OSI-408')\n",
    "        plt.plot(Dates[p_ind],LCCA[p_ind],\"*\",color=\"purple\",label=\"Peaks\")     \n",
    "                \n",
    "        plt.ylim(-1,65)\n",
    "        \n",
    "        plt.legend(loc=2)\n",
    "        \n",
    "        plt.xlabel(\"Time\",fontsize=16)\n",
    "        plt.ylabel(\"LCCA Index (%)\",fontsize=16)\n",
    "\n",
    "#         plt.show()\n",
    "        plt.savefig(SavePath+str(i)+'_LCCA_Peak_ERA5.jpg')\n",
    "#         plt.close()\n",
    "    \n",
    "    print(\"finished\")\n",
    "        "
   ]
  },
  {
   "cell_type": "code",
   "execution_count": null,
   "metadata": {},
   "outputs": [],
   "source": []
  }
 ],
 "metadata": {
  "kernelspec": {
   "display_name": "Python 3",
   "language": "python",
   "name": "python3"
  },
  "language_info": {
   "codemirror_mode": {
    "name": "ipython",
    "version": 3
   },
   "file_extension": ".py",
   "mimetype": "text/x-python",
   "name": "python",
   "nbconvert_exporter": "python",
   "pygments_lexer": "ipython3",
   "version": "3.7.1"
  }
 },
 "nbformat": 4,
 "nbformat_minor": 2
}
