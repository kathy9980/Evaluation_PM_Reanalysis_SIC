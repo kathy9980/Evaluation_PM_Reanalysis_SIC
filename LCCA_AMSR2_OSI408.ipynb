{
 "cells": [
  {
   "cell_type": "code",
   "execution_count": 1,
   "metadata": {},
   "outputs": [],
   "source": [
    "import os\n",
    "import numpy as np\n",
    "from netCDF4 import Dataset\n",
    "import time"
   ]
  },
  {
   "cell_type": "code",
   "execution_count": 2,
   "metadata": {},
   "outputs": [],
   "source": [
    "''' 获取路径下全部文件名 '''\n",
    "def eachFile(filepath):\n",
    "    pathDir =  os.listdir(filepath)\n",
    "    f = []\n",
    "    for allDir in pathDir:\n",
    "        child = os.path.join('%s%s' % (filepath, allDir))\n",
    "        f.append(child)\n",
    "#        print (child) # .decode('gbk')是解决中文显示乱码问题\n",
    "    return f"
   ]
  },
  {
   "cell_type": "code",
   "execution_count": 3,
   "metadata": {},
   "outputs": [],
   "source": [
    "''' 读取SIC数据 '''\n",
    "def ReadSIC(filename):\n",
    "    \n",
    "    file = Dataset(filename)\n",
    "    lat = file.variables['lat'][:]\n",
    "    lon = file.variables['lon'][:]\n",
    "    sic = file.variables['ice_conc'][0][:]\n",
    "    file.close()\n",
    "    \n",
    "    return sic,lat,lon    "
   ]
  },
  {
   "cell_type": "code",
   "execution_count": 4,
   "metadata": {},
   "outputs": [],
   "source": [
    "''' 读取Pixel_Area数据 '''\n",
    "def Read_PArea(filename):\n",
    "    \n",
    "    file = Dataset(filename)\n",
    "    Area_sf = file.variables['area_sf'][:]  ## area scale factor\n",
    "    Pixel_Area = Area_sf*100    ## Pixel_Area 单位:km^2\n",
    "    file.close()\n",
    "    \n",
    "    return Pixel_Area      "
   ]
  },
  {
   "cell_type": "code",
   "execution_count": 5,
   "metadata": {},
   "outputs": [],
   "source": [
    "''' 统计低值出现频次 '''   \n",
    "def CountLow(sic,lat,Pixel_Area,lim1,lim2):\n",
    "    \"\"\"\n",
    "    Input: sic,冰密集度日数据; \n",
    "           lat,纬度;\n",
    "           Pixel_Area,格网面积：\n",
    "           lim1,纬度下限;\n",
    "           lim2,纬度上限\n",
    "    Output: LCCA,低值面积/总面积*100%  \n",
    "    \"\"\" \n",
    "    \n",
    "    lat[lat<lim1] = np.nan  # 小于lim1的Lat置作nan;\n",
    "    CA_sic = np.array(sic)\n",
    "    CA_sic[lat != lat] = 999  #  纬度小于lim1区域的SIC记作999\n",
    "    CA_sic[lat>lim2] = 999  # 纬度大于lim2区域的SIC记作999\n",
    "#    a_hole = np.sum(Pix_Area[hdata != hdata])\n",
    "#    print('未去除的空洞面积(nan)：%f' %a_hole)\n",
    "    '''统计研究范围总面积 —— 非999的面积'''\n",
    "    a_total = np.sum(Pixel_Area[CA_sic != 999])\n",
    "#    print('总面积：%f' %a_total)  #  显示总面积\n",
    "    '''统计低值面积 —— 小于75%且大于15%'''\n",
    "    a_low = np.sum(Pixel_Area[CA_sic<75]) - np.sum(Pixel_Area[CA_sic<15])  \n",
    "#    print('低值面积：%f' %a_low)  #  显示低值个数\n",
    "    return a_low/a_total*100"
   ]
  },
  {
   "cell_type": "code",
   "execution_count": 6,
   "metadata": {},
   "outputs": [
    {
     "name": "stderr",
     "output_type": "stream",
     "text": [
      "C:\\Users\\kathy\\Anaconda3\\lib\\site-packages\\ipykernel_launcher.py:3: DeprecationWarning: time.clock has been deprecated in Python 3.3 and will be removed from Python 3.8: use time.perf_counter or time.process_time instead\n",
      "  This is separate from the ipykernel package so we can avoid doing imports until\n"
     ]
    },
    {
     "name": "stdout",
     "output_type": "stream",
     "text": [
      "2017\n"
     ]
    },
    {
     "name": "stderr",
     "output_type": "stream",
     "text": [
      "C:\\Users\\kathy\\Anaconda3\\lib\\site-packages\\ipykernel_launcher.py:15: RuntimeWarning: invalid value encountered in greater\n",
      "  from ipykernel import kernelapp as app\n",
      "C:\\Users\\kathy\\Anaconda3\\lib\\site-packages\\ipykernel_launcher.py:28: DeprecationWarning: time.clock has been deprecated in Python 3.3 and will be removed from Python 3.8: use time.perf_counter or time.process_time instead\n"
     ]
    },
    {
     "name": "stdout",
     "output_type": "stream",
     "text": [
      "\n",
      "运行时间: 24.933479\n",
      "2018\n",
      "\n",
      "运行时间: 46.402689\n",
      "2019\n",
      "\n",
      "运行时间: 70.191822\n",
      "success\n"
     ]
    }
   ],
   "source": [
    "''' main 函数  '''\n",
    "if __name__==\"__main__\":\n",
    "    start = time.clock()\n",
    "    \n",
    "    Geofilename = 'D:\\\\Arctic\\\\data\\\\GeoData\\\\r10km\\\\lmask_nh_stere_100.nc'\n",
    "    Pixel_Area = Read_PArea(Geofilename)\n",
    "    Year=['2017','2018','2019'] #'2008','2009','2010','2011','2012','2013','2014','2015','2016','2017'\n",
    "#     FilePath = \"D:\\\\Arctic\\\\data\\\\OSI SAF\\\\\"  #测试路径\n",
    "    for i in range(len(Year)):\n",
    "        \n",
    "        \n",
    "        FilePath = \"D:\\\\OSI SAF\\\\OSI-408\\\\\"+Year[i]+\"\\\\\" \n",
    "        FileName = eachFile(FilePath)\n",
    "        print(Year[i])\n",
    "        \n",
    "        file = open('OSI-AMSR2-SIC-LCCA-'+Year[i]+'-KD.txt','w')      \n",
    "        for filename in FileName:\n",
    "            date = filename[-15:-7]\n",
    "            sic,lat,lon = ReadSIC(filename)\n",
    "            \n",
    "            lcca = CountLow(sic,lat,Pixel_Area,84,88.3)\n",
    "            \n",
    "            file.write('%10s %.2f' %(date,lcca))\n",
    "            file.write('\\n')\n",
    "\n",
    "        file.close()\n",
    "        \n",
    "        end = time.clock()\n",
    "        print('\\n运行时间: %f' %(end-start))  # 显示运行时间\n",
    "        \n",
    "    print('success')"
   ]
  },
  {
   "cell_type": "code",
   "execution_count": null,
   "metadata": {},
   "outputs": [],
   "source": []
  }
 ],
 "metadata": {
  "kernelspec": {
   "display_name": "Python 3",
   "language": "python",
   "name": "python3"
  },
  "language_info": {
   "codemirror_mode": {
    "name": "ipython",
    "version": 3
   },
   "file_extension": ".py",
   "mimetype": "text/x-python",
   "name": "python",
   "nbconvert_exporter": "python",
   "pygments_lexer": "ipython3",
   "version": "3.7.1"
  }
 },
 "nbformat": 4,
 "nbformat_minor": 2
}
