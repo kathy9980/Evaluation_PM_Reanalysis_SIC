{
 "cells": [
  {
   "cell_type": "markdown",
   "metadata": {},
   "source": [
    "## Retrive Sea Ice Concentration (1km) from MODIS surface reflectance MOD09GA\n",
    "\n",
    "### 1. MODIS SIC algorithm (Shi and Su, 2018): broadband albedo (BBA) $\\alpha$\n",
    "\n",
    "$ \\alpha = R1 * 0.3265 + R4 * 0.2366 + R3 * 0.4364$\n",
    "\n",
    "albedo of pure water $ Aw $ is 0.08 \n",
    "\n",
    "albedo of pure ice   $ Ai $ is 0.67 \n",
    "\n",
    "### 2. Read cloud mask from 'state_1km'\n",
    "### 3. Add new variables - sic and cloud_mask into dataset and save it as `mosaic_sic_yyyymmdd.nc`\n",
    "### If a pixel passes this group of criteria tests it is identified as sea ice in the MODIS sea ice product."
   ]
  },
  {
   "cell_type": "code",
   "execution_count": 1,
   "metadata": {},
   "outputs": [],
   "source": [
    "import numpy as np\n",
    "import xarray as xr\n",
    "import netCDF4\n",
    "from pyhdf import SD\n",
    "import glob\n",
    "# import xesmf as xe"
   ]
  },
  {
   "cell_type": "code",
   "execution_count": 2,
   "metadata": {},
   "outputs": [],
   "source": [
    "import os\n",
    "import matplotlib.pyplot as plt\n",
    "# from mpl_toolkits.basemap import Basemap"
   ]
  },
  {
   "cell_type": "code",
   "execution_count": 3,
   "metadata": {},
   "outputs": [],
   "source": [
    "# os.chdir('C:\\\\Users\\\\kathy\\\\Downloads')\n",
    "# os.chdir('C:\\\\Users\\\\kathy\\\\Downloads\\\\20070828')\n",
    "# os.chdir('C:\\\\Users\\\\kathy\\\\Downloads\\\\20080701')\n",
    "# os.chdir('C:\\\\Users\\\\kathy\\\\Downloads\\\\MOD09GA-surface-reflectance\\\\20100628')\n",
    "\n",
    "# os.chdir('D:\\\\MOD09GA\\\\NT2\\\\Terra\\\\')\n",
    "os.chdir('D:\\\\MOD09GA\\\\NT2\\\\Aqua\\\\')\n",
    "\n",
    "# os.chdir('D:\\\\MOD09GA\\\\ASI\\\\Terra\\\\')\n",
    "# os.chdir('D:\\\\MOD09GA\\\\ASI\\\\Aqua\\\\')\n",
    "\n",
    "# os.chdir('D:\\\\kexin\\\\MOD09GA\\\\Aqua_new')  # new hard disk\n",
    "\n",
    "\n"
   ]
  },
  {
   "cell_type": "code",
   "execution_count": 4,
   "metadata": {},
   "outputs": [
    {
     "data": {
      "text/plain": [
       "['mosaic_20070822.nc',\n",
       " 'mosaic_20100806.nc',\n",
       " 'mosaic_20100831.nc',\n",
       " 'mosaic_20100906.nc',\n",
       " 'mosaic_20110810.nc',\n",
       " 'mosaic_20110825.nc',\n",
       " 'mosaic_20120831.nc',\n",
       " 'mosaic_20120916.nc',\n",
       " 'mosaic_20130817.nc',\n",
       " 'mosaic_20160908.nc',\n",
       " 'mosaic_20190828.nc']"
      ]
     },
     "execution_count": 4,
     "metadata": {},
     "output_type": "execute_result"
    }
   ],
   "source": [
    "fl=[]\n",
    "for f in os.listdir():\n",
    "    if f.endswith('.nc'):\n",
    "        fl.append(f)\n",
    "fl   \n"
   ]
  },
  {
   "cell_type": "code",
   "execution_count": 5,
   "metadata": {},
   "outputs": [
    {
     "name": "stdout",
     "output_type": "stream",
     "text": [
      "20070822\n",
      "D:\\MOD09GA\\NT2\\Aqua\\mosaic_20070822.nc\n"
     ]
    }
   ],
   "source": [
    "# fname = 'MYD09GA.A2007241.h19v00.006.2015164141438_reprojected_FB_nodelta.nc'\n",
    "# fname = 'mosaic_FB.nc'\n",
    "# fname = 'mosaic_20080701.nc'\n",
    "# fname = 'mosaic_20100628.nc'\n",
    "\n",
    "fname = fl[0]\n",
    "# fname = fl[1]\n",
    "# fname = fl[2]\n",
    "# fname = fl[3]\n",
    "# fname = fl[4]\n",
    "# fname = fl[5]\n",
    "# fname = fl[6]\n",
    "# fname = fl[7]\n",
    "# fname = fl[8]\n",
    "# fname = fl[9]\n",
    "# fname = fl[10]\n",
    "# fname = fl[11]\n",
    "# fname = fl[12]\n",
    "# fname = fl[13]\n",
    "# fname = fl[14]\n",
    "# fname = fl[15]\n",
    "# fname = fl[16]\n",
    "# fname = fl[17]\n",
    "# fname = fl[18]\n",
    "# fname = fl[19]\n",
    "\n",
    "\n",
    "date = fname[-11:-3]\n",
    "print(date)\n",
    "\n",
    "filename = os.path.join(os.getcwd(), fname)\n",
    "print(filename)"
   ]
  },
  {
   "cell_type": "code",
   "execution_count": 6,
   "metadata": {},
   "outputs": [],
   "source": [
    "ds = xr.open_dataset(filename)\n",
    "# ds"
   ]
  },
  {
   "cell_type": "code",
   "execution_count": 7,
   "metadata": {},
   "outputs": [
    {
     "name": "stdout",
     "output_type": "stream",
     "text": [
      "-0.01 0.08543118 1.6\n",
      "-0.01 0.07474763 1.6\n",
      "0.0 0.09958054 1.5125624\n",
      "-0.01 0.09451429 1.6\n",
      "-0.0023208775 0.0038680993 1.5468843\n"
     ]
    }
   ],
   "source": [
    "lat = ds.lat.values\n",
    "lon = ds.lon.values\n",
    "\n",
    "sur_refl_b01 = ds.sur_refl_b01_1.values/100000000.0\n",
    "\n",
    "sur_refl_b02 = ds.sur_refl_b02_1.values/100000000.0\n",
    "sur_refl_b03 = ds.sur_refl_b03_1.values/100000000.0\n",
    "sur_refl_b04 = ds.sur_refl_b04_1.values/100000000.0\n",
    "sur_refl_b06 = ds.sur_refl_b06_1.values/100000000.0\n",
    "\n",
    "print(sur_refl_b01.min(),sur_refl_b01.mean(),sur_refl_b01.max())\n",
    "print(sur_refl_b02.min(),sur_refl_b02.mean(),sur_refl_b02.max())\n",
    "print(sur_refl_b03.min(),sur_refl_b03.mean(),sur_refl_b03.max())\n",
    "print(sur_refl_b04.min(),sur_refl_b04.mean(),sur_refl_b04.max())\n",
    "print(sur_refl_b06.min(),sur_refl_b06.mean(),sur_refl_b06.max())"
   ]
  },
  {
   "cell_type": "code",
   "execution_count": 40,
   "metadata": {},
   "outputs": [],
   "source": [
    "# ds['sur_refl_b01_1'].plot()"
   ]
  },
  {
   "cell_type": "markdown",
   "metadata": {},
   "source": [
    "### MODIS SIC algorithm 1: broadband albedo (BBA) $\\alpha$\n",
    "\n",
    "$ \\alpha = R1 * 0.3265 + R4 * 0.2366 + R3 * 0.4364$\n",
    "\n",
    "albedo of pure water $ Aw $ is 0.08 \n",
    "\n",
    "albedo of pure ice   $ Ai $ is 0.67 "
   ]
  },
  {
   "cell_type": "code",
   "execution_count": 8,
   "metadata": {},
   "outputs": [
    {
     "data": {
      "text/plain": [
       "array([[0., 0., 0., ..., 0., 0., 0.],\n",
       "       [0., 0., 0., ..., 0., 0., 0.],\n",
       "       [0., 0., 0., ..., 0., 0., 0.],\n",
       "       ...,\n",
       "       [0., 0., 0., ..., 0., 0., 0.],\n",
       "       [0., 0., 0., ..., 0., 0., 0.],\n",
       "       [0., 0., 0., ..., 0., 0., 0.]], dtype=float32)"
      ]
     },
     "execution_count": 8,
     "metadata": {},
     "output_type": "execute_result"
    }
   ],
   "source": [
    "alpha = sur_refl_b01*0.3265 + sur_refl_b04 * 0.2366 + sur_refl_b03 * 0.4364\n",
    "alpha"
   ]
  },
  {
   "cell_type": "code",
   "execution_count": 9,
   "metadata": {},
   "outputs": [
    {
     "data": {
      "image/png": "[encoded data removed]",
      "text/plain": [
       "<Figure size 432x288 with 1 Axes>"
      ]
     },
     "metadata": {
      "needs_background": "light"
     },
     "output_type": "display_data"
    }
   ],
   "source": [
    "alpha_m = np.ma.masked_where(alpha == 0, alpha)\n",
    "plt.hist(np.ma.compressed(alpha_m),bins=512,density=True);"
   ]
  },
  {
   "cell_type": "code",
   "execution_count": 10,
   "metadata": {},
   "outputs": [
    {
     "data": {
      "text/plain": [
       "(4511, 3907)"
      ]
     },
     "execution_count": 10,
     "metadata": {},
     "output_type": "execute_result"
    }
   ],
   "source": [
    "(n,m) = alpha_m.shape\n",
    "sic = np.zeros((n,m))\n",
    "sic.shape"
   ]
  },
  {
   "cell_type": "code",
   "execution_count": 11,
   "metadata": {},
   "outputs": [],
   "source": [
    "sic = np.where(alpha_m < 0.06, 0, sic)\n",
    "sic = np.where(alpha_m > 0.60, 100, sic)"
   ]
  },
  {
   "cell_type": "code",
   "execution_count": 12,
   "metadata": {},
   "outputs": [],
   "source": [
    "ind = np.where((alpha_m > 0.06) & (alpha_m < 0.60))\n",
    "sic[ind] = (alpha_m[ind]-0.06)/0.54*100\n"
   ]
  },
  {
   "cell_type": "code",
   "execution_count": 13,
   "metadata": {},
   "outputs": [
    {
     "data": {
      "text/plain": [
       "(0.0, 14.421212538586841, 100.0)"
      ]
     },
     "execution_count": 13,
     "metadata": {},
     "output_type": "execute_result"
    }
   ],
   "source": [
    "sic.min(),sic.mean(),sic.max()"
   ]
  },
  {
   "cell_type": "code",
   "execution_count": 14,
   "metadata": {},
   "outputs": [],
   "source": [
    "sic_m = np.ma.masked_where(lat <= 84, sic)"
   ]
  },
  {
   "cell_type": "code",
   "execution_count": 15,
   "metadata": {},
   "outputs": [
    {
     "data": {
      "image/png": "[encoded data removed]",
      "text/plain": [
       "<Figure size 432x288 with 1 Axes>"
      ]
     },
     "metadata": {
      "needs_background": "light"
     },
     "output_type": "display_data"
    }
   ],
   "source": [
    "# plt.hist(np.ma.compressed(sic),bins=16,density=True);\n",
    "plt.hist(np.ma.compressed(sic_m),bins=16,density=True);"
   ]
  },
  {
   "cell_type": "code",
   "execution_count": 16,
   "metadata": {},
   "outputs": [
    {
     "data": {
      "text/plain": [
       "(0.0, 81.00697413110214, 100.0)"
      ]
     },
     "execution_count": 16,
     "metadata": {},
     "output_type": "execute_result"
    }
   ],
   "source": [
    "sic_m.min(),sic_m.mean(),sic_m.max()"
   ]
  },
  {
   "cell_type": "code",
   "execution_count": 17,
   "metadata": {},
   "outputs": [
    {
     "data": {
      "text/plain": [
       "<matplotlib.colorbar.Colorbar at 0x19d0869e128>"
      ]
     },
     "execution_count": 17,
     "metadata": {},
     "output_type": "execute_result"
    },
    {
     "data": {
      "image/png": "[encoded data removed]",
      "text/plain": [
       "<Figure size 432x288 with 2 Axes>"
      ]
     },
     "metadata": {
      "needs_background": "light"
     },
     "output_type": "display_data"
    }
   ],
   "source": [
    "plt.imshow(sic)\n",
    "# plt.imshow(sic_m)\n",
    "plt.colorbar()"
   ]
  },
  {
   "cell_type": "code",
   "execution_count": 51,
   "metadata": {},
   "outputs": [],
   "source": [
    "# ds.QC_500m_1.dims\n",
    "# ds.sur_refl_b01_1.dims"
   ]
  },
  {
   "cell_type": "code",
   "execution_count": 18,
   "metadata": {},
   "outputs": [
    {
     "data": {
      "text/plain": [
       "('y', 'x')"
      ]
     },
     "execution_count": 18,
     "metadata": {},
     "output_type": "execute_result"
    }
   ],
   "source": [
    "SIC = xr.as_variable((ds.sur_refl_b01_1.dims,sic),name='sic')\n",
    "SIC.dims"
   ]
  },
  {
   "cell_type": "code",
   "execution_count": 19,
   "metadata": {},
   "outputs": [],
   "source": [
    "# help(ds.assign)\n",
    "ds = ds.assign(sic = SIC)"
   ]
  },
  {
   "cell_type": "markdown",
   "metadata": {},
   "source": [
    "### Now, read cloud mask from 'state_1km'"
   ]
  },
  {
   "cell_type": "code",
   "execution_count": 20,
   "metadata": {},
   "outputs": [
    {
     "data": {
      "text/plain": [
       "2346.7815"
      ]
     },
     "execution_count": 20,
     "metadata": {},
     "output_type": "execute_result"
    }
   ],
   "source": [
    "state_1km = ds.state_1km_1.values\n",
    "state_1km.mean()"
   ]
  },
  {
   "cell_type": "code",
   "execution_count": 21,
   "metadata": {},
   "outputs": [],
   "source": [
    "cloud_mask = np.empty(state_1km.shape)\n",
    "cloud_mask.fill(np.nan)"
   ]
  },
  {
   "cell_type": "code",
   "execution_count": 22,
   "metadata": {},
   "outputs": [],
   "source": [
    "state_1km_m = np.ma.masked_invalid(state_1km)\n",
    "# np.unique(state_1km_m)"
   ]
  },
  {
   "cell_type": "code",
   "execution_count": 23,
   "metadata": {},
   "outputs": [],
   "source": [
    "# find index of 'not-nan' elements\n",
    "ind = np.argwhere(~np.isnan(state_1km))\n",
    "\n",
    "'''\n",
    "00: clear   -> int 0\n",
    "01: cloudy  -> int 1\n",
    "10: mixed   -> int 2\n",
    "'''\n",
    "for i in range(ind.shape[0]):\n",
    "    \n",
    "    a = state_1km[ind[i][0],ind[i][1]]\n",
    "    b = np.binary_repr(int(a),width=16)  # 16-bit representation of 'a'\n",
    "    c = '0b'+b[-2:]  # last 2 bit\n",
    "    cloud_mask[ind[i][0],ind[i][1]] = int(c,2) # convert binary number to decimal "
   ]
  },
  {
   "cell_type": "code",
   "execution_count": 24,
   "metadata": {},
   "outputs": [],
   "source": [
    "# plt.imshow(cloud_mask,cmap='tab10')\n",
    "# plt.colorbar()"
   ]
  },
  {
   "cell_type": "code",
   "execution_count": 25,
   "metadata": {},
   "outputs": [],
   "source": [
    "# assign mixed pixel to cloudy\n",
    "cloud_mask[cloud_mask == 2] = 1"
   ]
  },
  {
   "cell_type": "code",
   "execution_count": 26,
   "metadata": {},
   "outputs": [
    {
     "data": {
      "text/plain": [
       "('y', 'x')"
      ]
     },
     "execution_count": 26,
     "metadata": {},
     "output_type": "execute_result"
    }
   ],
   "source": [
    "CLOUD_MASK = xr.as_variable((ds.sur_refl_b01_1.dims,cloud_mask),name='cloud_mask')\n",
    "CLOUD_MASK.dims"
   ]
  },
  {
   "cell_type": "code",
   "execution_count": 28,
   "metadata": {},
   "outputs": [],
   "source": [
    "ds = ds.assign(cloud_mask = CLOUD_MASK)"
   ]
  },
  {
   "cell_type": "code",
   "execution_count": 29,
   "metadata": {},
   "outputs": [
    {
     "name": "stdout",
     "output_type": "stream",
     "text": [
      "20070822 ok\n"
     ]
    }
   ],
   "source": [
    "fname = 'mosaic_sic_'+date+'.nc'\n",
    "ds.to_netcdf(path=fname,mode='w',format='NETCDF4')\n",
    "\n",
    "print(date+' ok')"
   ]
  },
  {
   "cell_type": "markdown",
   "metadata": {},
   "source": [
    "## End here."
   ]
  },
  {
   "cell_type": "code",
   "execution_count": null,
   "metadata": {},
   "outputs": [],
   "source": [
    "os.getcwd()"
   ]
  },
  {
   "cell_type": "code",
   "execution_count": 30,
   "metadata": {},
   "outputs": [
    {
     "data": {
      "text/plain": [
       "<bound method DataWithCoords.close of <xarray.Dataset>\n",
       "Dimensions:                      (x: 3907, y: 4511)\n",
       "Coordinates:\n",
       "    lat                          (y, x) float32 0.0 0.0 0.0 0.0 ... 0.0 0.0 0.0\n",
       "    lon                          (y, x) float32 0.0 0.0 0.0 0.0 ... 0.0 0.0 0.0\n",
       "Dimensions without coordinates: x, y\n",
       "Data variables:\n",
       "    metadata                     int8 ...\n",
       "    QC_500m_1                    (y, x) float32 ...\n",
       "    QC_500m_1_count              (y, x) int32 ...\n",
       "    Range_1                      (y, x) float32 ...\n",
       "    Range_1_count                (y, x) int32 ...\n",
       "    SensorAzimuth_1              (y, x) float32 ...\n",
       "    SensorAzimuth_1_count        (y, x) int32 ...\n",
       "    SensorZenith_1               (y, x) float32 ...\n",
       "    SensorZenith_1_count         (y, x) int32 ...\n",
       "    SolarAzimuth_1               (y, x) float32 ...\n",
       "    SolarAzimuth_1_count         (y, x) int32 ...\n",
       "    SolarZenith_1                (y, x) float32 ...\n",
       "    SolarZenith_1_count          (y, x) int32 ...\n",
       "    gflags_1                     (y, x) float32 ...\n",
       "    gflags_1_count               (y, x) int32 ...\n",
       "    granule_pnt_1                (y, x) float32 ...\n",
       "    granule_pnt_1_count          (y, x) int32 ...\n",
       "    iobs_res_1                   (y, x) float32 ...\n",
       "    iobs_res_1_count             (y, x) int32 ...\n",
       "    lat_count                    (y, x) int32 ...\n",
       "    lon_count                    (y, x) int32 ...\n",
       "    num_observations_1km         (y, x) float32 ...\n",
       "    num_observations_1km_count   (y, x) int32 ...\n",
       "    num_observations_500m        (y, x) float32 ...\n",
       "    num_observations_500m_count  (y, x) int32 ...\n",
       "    obscov_500m_1                (y, x) float32 ...\n",
       "    obscov_500m_1_count          (y, x) int32 ...\n",
       "    orbit_pnt_1                  (y, x) float32 ...\n",
       "    orbit_pnt_1_count            (y, x) int32 ...\n",
       "    q_scan_1                     (y, x) float32 ...\n",
       "    q_scan_1_count               (y, x) int32 ...\n",
       "    state_1km_1                  (y, x) float32 0.0 0.0 0.0 0.0 ... 0.0 0.0 0.0\n",
       "    state_1km_1_count            (y, x) int32 ...\n",
       "    sur_refl_b01_1               (y, x) float32 0.0 0.0 0.0 0.0 ... 0.0 0.0 0.0\n",
       "    sur_refl_b01_1_count         (y, x) int32 ...\n",
       "    sur_refl_b02_1               (y, x) float32 0.0 0.0 0.0 0.0 ... 0.0 0.0 0.0\n",
       "    sur_refl_b02_1_count         (y, x) int32 ...\n",
       "    sur_refl_b03_1               (y, x) float32 0.0 0.0 0.0 0.0 ... 0.0 0.0 0.0\n",
       "    sur_refl_b03_1_count         (y, x) int32 ...\n",
       "    sur_refl_b04_1               (y, x) float32 0.0 0.0 0.0 0.0 ... 0.0 0.0 0.0\n",
       "    sur_refl_b04_1_count         (y, x) int32 ...\n",
       "    sur_refl_b05_1               (y, x) float32 ...\n",
       "    sur_refl_b05_1_count         (y, x) int32 ...\n",
       "    sur_refl_b06_1               (y, x) float32 0.0 0.0 0.0 0.0 ... 0.0 0.0 0.0\n",
       "    sur_refl_b06_1_count         (y, x) int32 ...\n",
       "    sur_refl_b07_1               (y, x) float32 ...\n",
       "    sur_refl_b07_1_count         (y, x) int32 ...\n",
       "    crs                          int32 ...\n",
       "    sic                          (y, x) float64 0.0 0.0 0.0 0.0 ... 0.0 0.0 0.0\n",
       "    cloud_mask                   (y, x) float64 0.0 0.0 0.0 0.0 ... 0.0 0.0 0.0\n",
       "Attributes:\n",
       "    Conventions:       CF-1.4\n",
       "    TileSize:          347:391\n",
       "    product_type:      BEAM_MOSAIC\n",
       "    metadata_profile:  beam\n",
       "    metadata_version:  0.5>"
      ]
     },
     "execution_count": 30,
     "metadata": {},
     "output_type": "execute_result"
    }
   ],
   "source": [
    "ds.close"
   ]
  },
  {
   "cell_type": "code",
   "execution_count": null,
   "metadata": {},
   "outputs": [],
   "source": []
  }
 ],
 "metadata": {
  "kernelspec": {
   "display_name": "Python 3",
   "language": "python",
   "name": "python3"
  },
  "language_info": {
   "codemirror_mode": {
    "name": "ipython",
    "version": 3
   },
   "file_extension": ".py",
   "mimetype": "text/x-python",
   "name": "python",
   "nbconvert_exporter": "python",
   "pygments_lexer": "ipython3",
   "version": "3.7.1"
  }
 },
 "nbformat": 4,
 "nbformat_minor": 2
}
