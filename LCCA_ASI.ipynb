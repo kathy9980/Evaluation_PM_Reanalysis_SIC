{
 "cells": [
  {
   "cell_type": "code",
   "execution_count": 1,
   "metadata": {},
   "outputs": [],
   "source": [
    "import glob\n",
    "import os\n",
    "from pyhdf import SD\n",
    "import numpy as np\n",
    "#from matplotlib import pyplot  as plt\n",
    "import time"
   ]
  },
  {
   "cell_type": "code",
   "execution_count": 6,
   "metadata": {},
   "outputs": [],
   "source": [
    "''' 获取路径下全部文件名 '''\n",
    "def eachFile(filepath):\n",
    "    pathDir =  os.listdir(filepath)\n",
    "    f = []\n",
    "    for allDir in pathDir:\n",
    "        child = os.path.join('%s%s' % (filepath, allDir))\n",
    "        f.append(child)\n",
    "#        print (child) # .decode('gbk')是解决中文显示乱码问题\n",
    "    return f\n",
    "    \n",
    "''' 读hdf海冰密集度 '''\n",
    "def ReadSIC(filename):\n",
    "    hdf_name = glob.glob(filename)\n",
    "    hdf_obj = SD.SD(hdf_name[0],SD.SDC.READ)\n",
    "    a = list(hdf_obj.select('ASI Ice Concentration'))  # SDS强制类型转换为list\n",
    "    a = np.array(a)\n",
    "    return a\n",
    "    \n",
    "''' 统计低值出现频次 '''   \n",
    "\n",
    "def CountLow(data,lim1,lim2):\n",
    "    \"\"\"\n",
    "    Input: data,冰密集度日数据; \n",
    "           lim1,纬度下限;\n",
    "           lim2,纬度上限\n",
    "    Output: a_low,低值面积;\n",
    "            a_total,总面积;\n",
    "            LCCA,低值面积/总面积  \n",
    "    \"\"\" \n",
    "    Lat = np.load('D:\\\\Arctic\\\\data\\\\GeoData\\\\r6.25km\\\\Lat.npy')\n",
    "    hLat = np.array(Lat)\n",
    "    Pix_Area = np.load('D:\\\\Arctic\\\\data\\\\GeoData\\\\r6.25km\\\\Pix_Area.npy')\n",
    "    Pix_Area = np.array(Pix_Area)\n",
    "    \n",
    "    hLat[hLat<lim1] = np.nan  # 小于lim1的Lat置作nan;\n",
    "    hdata = np.array(SIC)\n",
    "    hdata[hLat != hLat] = 999  #  纬度小于lim1区域的SIC记作999\n",
    "    hdata[hLat>lim2] = 999  # 纬度大于lim2区域的SIC记作999\n",
    "#    a_hole = np.sum(Pix_Area[hdata != hdata])\n",
    "#    print('未去除的空洞面积(nan)：%f' %a_hole)\n",
    "    '''统计研究范围总面积 —— 非999的面积'''\n",
    "    a_total = np.sum(Pix_Area[hdata != 999])\n",
    "#    print('总面积：%f' %a_total)  #  显示总面积\n",
    "    '''统计低值面积 —— 小于75%且大于15%'''\n",
    "    a_low = np.sum(Pix_Area[hdata<75]) - np.sum(Pix_Area[hdata<15])  \n",
    "#    print('低值面积：%f' %a_low)  #  显示低值个数\n",
    "    return a_low/a_total*100"
   ]
  },
  {
   "cell_type": "code",
   "execution_count": 13,
   "metadata": {},
   "outputs": [
    {
     "name": "stderr",
     "output_type": "stream",
     "text": [
      "C:\\Users\\kathy\\Anaconda3\\lib\\site-packages\\ipykernel_launcher.py:2: DeprecationWarning: time.clock has been deprecated in Python 3.3 and will be removed from Python 3.8: use time.perf_counter or time.process_time instead\n",
      "  \n"
     ]
    },
    {
     "name": "stdout",
     "output_type": "stream",
     "text": [
      "2019\n"
     ]
    },
    {
     "name": "stderr",
     "output_type": "stream",
     "text": [
      "C:\\Users\\kathy\\Anaconda3\\lib\\site-packages\\ipykernel_launcher.py:38: RuntimeWarning: invalid value encountered in greater\n"
     ]
    },
    {
     "name": "stdout",
     "output_type": "stream",
     "text": [
      "\n",
      "运行时间: 35.238395\n",
      "success\n"
     ]
    },
    {
     "name": "stderr",
     "output_type": "stream",
     "text": [
      "C:\\Users\\kathy\\Anaconda3\\lib\\site-packages\\ipykernel_launcher.py:27: DeprecationWarning: time.clock has been deprecated in Python 3.3 and will be removed from Python 3.8: use time.perf_counter or time.process_time instead\n"
     ]
    }
   ],
   "source": [
    "''' main 函数  '''\n",
    "start = time.clock()\n",
    "\n",
    "#FilePath = \"D:\\\\Arctic\\\\LowValue_winter\\\\TestData\\\\ASI\\\\PubHole\\\\\"  #测试路径\n",
    "FilePath = \"D:\\\\AMSR2-Bremen\\\\2019\\\\\" \n",
    "\n",
    "Year=['2019'] #'2008','2009','2010','2011','2012','2013','2014','2015','2016','2017'\n",
    "for i in range(len(Year)):\n",
    "\n",
    "    FilePath = \"D:\\\\AMSR2-Bremen\\\\\"+Year[i]+\"\\\\\" \n",
    "    FileName = eachFile(FilePath)\n",
    "    print(Year[i])\n",
    "\n",
    "    file = open('ASI-SIC-LCCA-'+Year[i]+'-KD.txt','w')      \n",
    "    for filename in FileName:\n",
    "        date = filename[-17:-9]\n",
    "        SIC = ReadSIC(filename)\n",
    "\n",
    "#         lcca = CountLow(sic,lat,Pixel_Area,84,88.3)\n",
    "        lcca = CountLow(SIC,84,88.3)\n",
    "\n",
    "        file.write('%10s %.2f' %(date,lcca))\n",
    "        file.write('\\n')\n",
    "\n",
    "    file.close()\n",
    "\n",
    "    end = time.clock()\n",
    "    print('\\n运行时间: %f' %(end-start))  # 显示运行时间\n",
    "\n",
    "\n",
    "print('success')"
   ]
  },
  {
   "cell_type": "code",
   "execution_count": 14,
   "metadata": {},
   "outputs": [
    {
     "data": {
      "text/plain": [
       "'20191031'"
      ]
     },
     "execution_count": 14,
     "metadata": {},
     "output_type": "execute_result"
    }
   ],
   "source": [
    "date"
   ]
  },
  {
   "cell_type": "code",
   "execution_count": null,
   "metadata": {},
   "outputs": [],
   "source": []
  }
 ],
 "metadata": {
  "kernelspec": {
   "display_name": "Python 3",
   "language": "python",
   "name": "python3"
  },
  "language_info": {
   "codemirror_mode": {
    "name": "ipython",
    "version": 3
   },
   "file_extension": ".py",
   "mimetype": "text/x-python",
   "name": "python",
   "nbconvert_exporter": "python",
   "pygments_lexer": "ipython3",
   "version": "3.7.1"
  }
 },
 "nbformat": 4,
 "nbformat_minor": 2
}
